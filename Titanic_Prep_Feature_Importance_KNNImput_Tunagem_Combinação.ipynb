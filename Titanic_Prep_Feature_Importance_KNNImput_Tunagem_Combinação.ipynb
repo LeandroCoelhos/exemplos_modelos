{
  "nbformat": 4,
  "nbformat_minor": 0,
  "metadata": {
    "colab": {
      "name": "Titanic_Prep_Feature Importance_KNNImput_Tunagem_Combinação.ipynb",
      "provenance": [],
      "collapsed_sections": [],
      "authorship_tag": "ABX9TyMXPViCLz3AgocijA5OZ13O",
      "include_colab_link": true
    },
    "kernelspec": {
      "name": "python3",
      "display_name": "Python 3"
    },
    "language_info": {
      "name": "python"
    }
  },
  "cells": [
    {
      "cell_type": "markdown",
      "metadata": {
        "id": "view-in-github",
        "colab_type": "text"
      },
      "source": [
        "<a href=\"https://colab.research.google.com/github/LeandroCoelhos/exemplos_modelos/blob/main/Titanic_Prep_Feature_Importance_KNNImput_Tunagem_Combina%C3%A7%C3%A3o.ipynb\" target=\"_parent\"><img src=\"https://colab.research.google.com/assets/colab-badge.svg\" alt=\"Open In Colab\"/></a>"
      ]
    },
    {
      "cell_type": "code",
      "execution_count": null,
      "metadata": {
        "id": "NU7OdMyixd4u"
      },
      "outputs": [],
      "source": [
        "import pandas as pd\n",
        "import numpy as np"
      ]
    },
    {
      "cell_type": "code",
      "source": [
        "url1 = 'https://raw.githubusercontent.com/LeandroCoelhos/datasets/main/Titanic/train.csv'\n",
        "url2 = 'https://raw.githubusercontent.com/LeandroCoelhos/datasets/main/Titanic/test.csv'\n",
        "treino = pd.read_csv(url1)\n",
        "teste = pd.read_csv(url2) \n",
        "\n",
        "n = treino.shape[0]#DEFINE ATÉ ONDE VAI O CONJUNTO DE TREINO"
      ],
      "metadata": {
        "id": "xStv0keGxqZU"
      },
      "execution_count": null,
      "outputs": []
    },
    {
      "cell_type": "code",
      "source": [
        "targets = list(treino['Survived']) #atribuição a variável resposta em uma lista separada\n",
        "len(targets)"
      ],
      "metadata": {
        "colab": {
          "base_uri": "https://localhost:8080/"
        },
        "id": "reS7UlQsxr8-",
        "outputId": "90cc6e5a-941b-4e60-f03c-354a8ae78731"
      },
      "execution_count": null,
      "outputs": [
        {
          "output_type": "execute_result",
          "data": {
            "text/plain": [
              "891"
            ]
          },
          "metadata": {},
          "execution_count": 11
        }
      ]
    },
    {
      "cell_type": "code",
      "source": [
        "#Facilita para aplicar as normalizações e mudanças de variáveis no treino e no teste ao mesmo tempo\n",
        "dataset = pd.concat([treino, teste]) "
      ],
      "metadata": {
        "id": "vei3BLPbxxLi"
      },
      "execution_count": null,
      "outputs": []
    },
    {
      "cell_type": "code",
      "source": [
        "# mapeando o sexo em 0 e 1 no data set completo, evita ter que fazer uma etapa para treino e outra para teste\n",
        "dataset['Sex'] = dataset['Sex'].map({'male': 0, 'female': 1}) "
      ],
      "metadata": {
        "id": "rnJe-2I_yEBu"
      },
      "execution_count": null,
      "outputs": []
    },
    {
      "cell_type": "code",
      "source": [
        "# tranformação de variavel: pegar apenas o titulo presente no nome\n",
        "def aux(x):\n",
        "    return x.split(', ')[1].split('. ')[0]\n",
        "\n",
        "dataset['Titulo'] = dataset['Name'].apply(aux)"
      ],
      "metadata": {
        "id": "KlIilaK7yFQL"
      },
      "execution_count": null,
      "outputs": []
    },
    {
      "cell_type": "code",
      "source": [
        "#agrupnando as categorias e mapeando-a\n",
        "#busca por mais informações sobre os dados podem gerar melhores resultados\n",
        "titulos = {\n",
        "    \"Capt\": \"Officer\",\n",
        "    \"Col\": \"Officer\",\n",
        "    \"Major\": \"Officer\",\n",
        "    \"Jonkheer\": \"Royalty\",\n",
        "    \"Don\": \"Royalty\",\n",
        "    \"Sir\" : \"Royalty\",\n",
        "    \"Dr\": \"Officer\",\n",
        "    \"Rev\": \"Officer\",\n",
        "    \"the Countess\":\"Royalty\",\n",
        "    \"Mme\": \"Mrs\",\n",
        "    \"Mlle\": \"Miss\",\n",
        "    \"Ms\": \"Mrs\",\n",
        "    \"Mr\" : \"Mr\",\n",
        "    \"Mrs\" : \"Mrs\",\n",
        "    \"Miss\" : \"Miss\",\n",
        "    \"Master\" : \"Master\",\n",
        "    \"Lady\" : \"Royalty\"\n",
        "}\n",
        "\n",
        "dataset['Titulacao'] = dataset['Titulo'].map(titulos)"
      ],
      "metadata": {
        "id": "jDz8DqHWyHWi"
      },
      "execution_count": null,
      "outputs": []
    },
    {
      "cell_type": "code",
      "source": [
        "dataset['Survived'].groupby(dataset['Titulacao']).describe()"
      ],
      "metadata": {
        "colab": {
          "base_uri": "https://localhost:8080/",
          "height": 269
        },
        "id": "du9-xi2QyIhZ",
        "outputId": "bfb7f157-a2cc-4abe-ec6b-98ec12249085"
      },
      "execution_count": null,
      "outputs": [
        {
          "output_type": "execute_result",
          "data": {
            "text/plain": [
              "           count      mean       std  min  25%  50%   75%  max\n",
              "Titulacao                                                     \n",
              "Master      40.0  0.575000  0.500641  0.0  0.0  1.0  1.00  1.0\n",
              "Miss       184.0  0.701087  0.459031  0.0  0.0  1.0  1.00  1.0\n",
              "Mr         517.0  0.156673  0.363844  0.0  0.0  0.0  0.00  1.0\n",
              "Mrs        127.0  0.795276  0.405098  0.0  1.0  1.0  1.00  1.0\n",
              "Officer     18.0  0.277778  0.460889  0.0  0.0  0.0  0.75  1.0\n",
              "Royalty      5.0  0.600000  0.547723  0.0  0.0  1.0  1.00  1.0"
            ],
            "text/html": [
              "\n",
              "  <div id=\"df-18dd466d-5d1f-4afe-88b0-8f19d3f91501\">\n",
              "    <div class=\"colab-df-container\">\n",
              "      <div>\n",
              "<style scoped>\n",
              "    .dataframe tbody tr th:only-of-type {\n",
              "        vertical-align: middle;\n",
              "    }\n",
              "\n",
              "    .dataframe tbody tr th {\n",
              "        vertical-align: top;\n",
              "    }\n",
              "\n",
              "    .dataframe thead th {\n",
              "        text-align: right;\n",
              "    }\n",
              "</style>\n",
              "<table border=\"1\" class=\"dataframe\">\n",
              "  <thead>\n",
              "    <tr style=\"text-align: right;\">\n",
              "      <th></th>\n",
              "      <th>count</th>\n",
              "      <th>mean</th>\n",
              "      <th>std</th>\n",
              "      <th>min</th>\n",
              "      <th>25%</th>\n",
              "      <th>50%</th>\n",
              "      <th>75%</th>\n",
              "      <th>max</th>\n",
              "    </tr>\n",
              "    <tr>\n",
              "      <th>Titulacao</th>\n",
              "      <th></th>\n",
              "      <th></th>\n",
              "      <th></th>\n",
              "      <th></th>\n",
              "      <th></th>\n",
              "      <th></th>\n",
              "      <th></th>\n",
              "      <th></th>\n",
              "    </tr>\n",
              "  </thead>\n",
              "  <tbody>\n",
              "    <tr>\n",
              "      <th>Master</th>\n",
              "      <td>40.0</td>\n",
              "      <td>0.575000</td>\n",
              "      <td>0.500641</td>\n",
              "      <td>0.0</td>\n",
              "      <td>0.0</td>\n",
              "      <td>1.0</td>\n",
              "      <td>1.00</td>\n",
              "      <td>1.0</td>\n",
              "    </tr>\n",
              "    <tr>\n",
              "      <th>Miss</th>\n",
              "      <td>184.0</td>\n",
              "      <td>0.701087</td>\n",
              "      <td>0.459031</td>\n",
              "      <td>0.0</td>\n",
              "      <td>0.0</td>\n",
              "      <td>1.0</td>\n",
              "      <td>1.00</td>\n",
              "      <td>1.0</td>\n",
              "    </tr>\n",
              "    <tr>\n",
              "      <th>Mr</th>\n",
              "      <td>517.0</td>\n",
              "      <td>0.156673</td>\n",
              "      <td>0.363844</td>\n",
              "      <td>0.0</td>\n",
              "      <td>0.0</td>\n",
              "      <td>0.0</td>\n",
              "      <td>0.00</td>\n",
              "      <td>1.0</td>\n",
              "    </tr>\n",
              "    <tr>\n",
              "      <th>Mrs</th>\n",
              "      <td>127.0</td>\n",
              "      <td>0.795276</td>\n",
              "      <td>0.405098</td>\n",
              "      <td>0.0</td>\n",
              "      <td>1.0</td>\n",
              "      <td>1.0</td>\n",
              "      <td>1.00</td>\n",
              "      <td>1.0</td>\n",
              "    </tr>\n",
              "    <tr>\n",
              "      <th>Officer</th>\n",
              "      <td>18.0</td>\n",
              "      <td>0.277778</td>\n",
              "      <td>0.460889</td>\n",
              "      <td>0.0</td>\n",
              "      <td>0.0</td>\n",
              "      <td>0.0</td>\n",
              "      <td>0.75</td>\n",
              "      <td>1.0</td>\n",
              "    </tr>\n",
              "    <tr>\n",
              "      <th>Royalty</th>\n",
              "      <td>5.0</td>\n",
              "      <td>0.600000</td>\n",
              "      <td>0.547723</td>\n",
              "      <td>0.0</td>\n",
              "      <td>0.0</td>\n",
              "      <td>1.0</td>\n",
              "      <td>1.00</td>\n",
              "      <td>1.0</td>\n",
              "    </tr>\n",
              "  </tbody>\n",
              "</table>\n",
              "</div>\n",
              "      <button class=\"colab-df-convert\" onclick=\"convertToInteractive('df-18dd466d-5d1f-4afe-88b0-8f19d3f91501')\"\n",
              "              title=\"Convert this dataframe to an interactive table.\"\n",
              "              style=\"display:none;\">\n",
              "        \n",
              "  <svg xmlns=\"http://www.w3.org/2000/svg\" height=\"24px\"viewBox=\"0 0 24 24\"\n",
              "       width=\"24px\">\n",
              "    <path d=\"M0 0h24v24H0V0z\" fill=\"none\"/>\n",
              "    <path d=\"M18.56 5.44l.94 2.06.94-2.06 2.06-.94-2.06-.94-.94-2.06-.94 2.06-2.06.94zm-11 1L8.5 8.5l.94-2.06 2.06-.94-2.06-.94L8.5 2.5l-.94 2.06-2.06.94zm10 10l.94 2.06.94-2.06 2.06-.94-2.06-.94-.94-2.06-.94 2.06-2.06.94z\"/><path d=\"M17.41 7.96l-1.37-1.37c-.4-.4-.92-.59-1.43-.59-.52 0-1.04.2-1.43.59L10.3 9.45l-7.72 7.72c-.78.78-.78 2.05 0 2.83L4 21.41c.39.39.9.59 1.41.59.51 0 1.02-.2 1.41-.59l7.78-7.78 2.81-2.81c.8-.78.8-2.07 0-2.86zM5.41 20L4 18.59l7.72-7.72 1.47 1.35L5.41 20z\"/>\n",
              "  </svg>\n",
              "      </button>\n",
              "      \n",
              "  <style>\n",
              "    .colab-df-container {\n",
              "      display:flex;\n",
              "      flex-wrap:wrap;\n",
              "      gap: 12px;\n",
              "    }\n",
              "\n",
              "    .colab-df-convert {\n",
              "      background-color: #E8F0FE;\n",
              "      border: none;\n",
              "      border-radius: 50%;\n",
              "      cursor: pointer;\n",
              "      display: none;\n",
              "      fill: #1967D2;\n",
              "      height: 32px;\n",
              "      padding: 0 0 0 0;\n",
              "      width: 32px;\n",
              "    }\n",
              "\n",
              "    .colab-df-convert:hover {\n",
              "      background-color: #E2EBFA;\n",
              "      box-shadow: 0px 1px 2px rgba(60, 64, 67, 0.3), 0px 1px 3px 1px rgba(60, 64, 67, 0.15);\n",
              "      fill: #174EA6;\n",
              "    }\n",
              "\n",
              "    [theme=dark] .colab-df-convert {\n",
              "      background-color: #3B4455;\n",
              "      fill: #D2E3FC;\n",
              "    }\n",
              "\n",
              "    [theme=dark] .colab-df-convert:hover {\n",
              "      background-color: #434B5C;\n",
              "      box-shadow: 0px 1px 3px 1px rgba(0, 0, 0, 0.15);\n",
              "      filter: drop-shadow(0px 1px 2px rgba(0, 0, 0, 0.3));\n",
              "      fill: #FFFFFF;\n",
              "    }\n",
              "  </style>\n",
              "\n",
              "      <script>\n",
              "        const buttonEl =\n",
              "          document.querySelector('#df-18dd466d-5d1f-4afe-88b0-8f19d3f91501 button.colab-df-convert');\n",
              "        buttonEl.style.display =\n",
              "          google.colab.kernel.accessAllowed ? 'block' : 'none';\n",
              "\n",
              "        async function convertToInteractive(key) {\n",
              "          const element = document.querySelector('#df-18dd466d-5d1f-4afe-88b0-8f19d3f91501');\n",
              "          const dataTable =\n",
              "            await google.colab.kernel.invokeFunction('convertToInteractive',\n",
              "                                                     [key], {});\n",
              "          if (!dataTable) return;\n",
              "\n",
              "          const docLinkHtml = 'Like what you see? Visit the ' +\n",
              "            '<a target=\"_blank\" href=https://colab.research.google.com/notebooks/data_table.ipynb>data table notebook</a>'\n",
              "            + ' to learn more about interactive tables.';\n",
              "          element.innerHTML = '';\n",
              "          dataTable['output_type'] = 'display_data';\n",
              "          await google.colab.output.renderOutput(dataTable, element);\n",
              "          const docLink = document.createElement('div');\n",
              "          docLink.innerHTML = docLinkHtml;\n",
              "          element.appendChild(docLink);\n",
              "        }\n",
              "      </script>\n",
              "    </div>\n",
              "  </div>\n",
              "  "
            ]
          },
          "metadata": {},
          "execution_count": 16
        }
      ]
    },
    {
      "cell_type": "code",
      "source": [
        "# variavel Cabine\n",
        "dataset['Cabin']"
      ],
      "metadata": {
        "colab": {
          "base_uri": "https://localhost:8080/"
        },
        "id": "DgsUB5t9yJgq",
        "outputId": "471cff62-4c46-465b-95ab-ebd2601396ea"
      },
      "execution_count": null,
      "outputs": [
        {
          "output_type": "execute_result",
          "data": {
            "text/plain": [
              "0       NaN\n",
              "1       C85\n",
              "2       NaN\n",
              "3      C123\n",
              "4       NaN\n",
              "       ... \n",
              "413     NaN\n",
              "414    C105\n",
              "415     NaN\n",
              "416     NaN\n",
              "417     NaN\n",
              "Name: Cabin, Length: 1309, dtype: object"
            ]
          },
          "metadata": {},
          "execution_count": 17
        }
      ]
    },
    {
      "cell_type": "code",
      "source": [
        "# tranformação de variavel: pegar apenas a primeira letra da variavel Cabin, para identificar os nulos e os preenchidos, sabendo qual categoria ela pertence\n",
        "def aux(x):\n",
        "    return list(str(x))[0]\n",
        "\n",
        "dataset['Cabin'] = dataset['Cabin'].apply(aux) "
      ],
      "metadata": {
        "id": "eZ_eaDc2yKbZ"
      },
      "execution_count": null,
      "outputs": []
    },
    {
      "cell_type": "code",
      "source": [
        "dataset['Familia'] = dataset['SibSp'] + dataset['Parch'] + 1 "
      ],
      "metadata": {
        "id": "nY3AVz13yPjP"
      },
      "execution_count": null,
      "outputs": []
    },
    {
      "cell_type": "code",
      "source": [
        "#defifindo o tamanho da família\n",
        "#categorizar o tamanho da família pode ajudar nos resultados\n",
        "def aux(x):\n",
        "    if x == 1:\n",
        "        return 'Sozinho'\n",
        "    elif x <= 4:\n",
        "        return 'Pequena'\n",
        "    else:\n",
        "        return 'Grande' \n",
        "\n",
        "dataset['FamiliaTipo'] = dataset['Familia'].apply(aux) #aplica diretamente em todo o dataset"
      ],
      "metadata": {
        "id": "19SDHXOfyQef"
      },
      "execution_count": null,
      "outputs": []
    },
    {
      "cell_type": "code",
      "source": [
        "dataset['FamiliaTipo'].value_counts().plot(kind = 'pie')\n",
        "\n",
        "dataset['Survived'].groupby(dataset['FamiliaTipo']).mean()"
      ],
      "metadata": {
        "colab": {
          "base_uri": "https://localhost:8080/",
          "height": 337
        },
        "id": "BNB-NEEQySus",
        "outputId": "6df884fc-b4ca-4f9e-bd26-b88a948063cc"
      },
      "execution_count": null,
      "outputs": [
        {
          "output_type": "execute_result",
          "data": {
            "text/plain": [
              "FamiliaTipo\n",
              "Grande     0.161290\n",
              "Pequena    0.578767\n",
              "Sozinho    0.303538\n",
              "Name: Survived, dtype: float64"
            ]
          },
          "metadata": {},
          "execution_count": 21
        },
        {
          "output_type": "display_data",
          "data": {
            "text/plain": [
              "<Figure size 432x288 with 1 Axes>"
            ],
            "image/png": "[encoded data removed]"
          },
          "metadata": {}
        }
      ]
    },
    {
      "cell_type": "code",
      "source": [
        "# Dropando Variaveis que não serão mais utilizadas por terem sido substituidas\n",
        "variaveis = ['PassengerId', 'Name', 'Ticket', 'Titulo']\n",
        "dataset.drop(variaveis, axis = 1, inplace = True)"
      ],
      "metadata": {
        "id": "0uW2Txb6yUAm"
      },
      "execution_count": null,
      "outputs": []
    },
    {
      "cell_type": "code",
      "source": [
        "dataset.head(1)"
      ],
      "metadata": {
        "colab": {
          "base_uri": "https://localhost:8080/",
          "height": 81
        },
        "id": "rbdarLBAyXZK",
        "outputId": "5739ce10-e39a-42c4-b087-1f6ee60c89e3"
      },
      "execution_count": null,
      "outputs": [
        {
          "output_type": "execute_result",
          "data": {
            "text/plain": [
              "   Survived  Pclass  Sex   Age  SibSp  Parch  Fare Cabin Embarked Titulacao  \\\n",
              "0       0.0       3    0  22.0      1      0  7.25     n        S        Mr   \n",
              "\n",
              "   Familia FamiliaTipo  \n",
              "0        2     Pequena  "
            ],
            "text/html": [
              "\n",
              "  <div id=\"df-4e1cbe0d-b853-4333-8a96-15ae2495ddad\">\n",
              "    <div class=\"colab-df-container\">\n",
              "      <div>\n",
              "<style scoped>\n",
              "    .dataframe tbody tr th:only-of-type {\n",
              "        vertical-align: middle;\n",
              "    }\n",
              "\n",
              "    .dataframe tbody tr th {\n",
              "        vertical-align: top;\n",
              "    }\n",
              "\n",
              "    .dataframe thead th {\n",
              "        text-align: right;\n",
              "    }\n",
              "</style>\n",
              "<table border=\"1\" class=\"dataframe\">\n",
              "  <thead>\n",
              "    <tr style=\"text-align: right;\">\n",
              "      <th></th>\n",
              "      <th>Survived</th>\n",
              "      <th>Pclass</th>\n",
              "      <th>Sex</th>\n",
              "      <th>Age</th>\n",
              "      <th>SibSp</th>\n",
              "      <th>Parch</th>\n",
              "      <th>Fare</th>\n",
              "      <th>Cabin</th>\n",
              "      <th>Embarked</th>\n",
              "      <th>Titulacao</th>\n",
              "      <th>Familia</th>\n",
              "      <th>FamiliaTipo</th>\n",
              "    </tr>\n",
              "  </thead>\n",
              "  <tbody>\n",
              "    <tr>\n",
              "      <th>0</th>\n",
              "      <td>0.0</td>\n",
              "      <td>3</td>\n",
              "      <td>0</td>\n",
              "      <td>22.0</td>\n",
              "      <td>1</td>\n",
              "      <td>0</td>\n",
              "      <td>7.25</td>\n",
              "      <td>n</td>\n",
              "      <td>S</td>\n",
              "      <td>Mr</td>\n",
              "      <td>2</td>\n",
              "      <td>Pequena</td>\n",
              "    </tr>\n",
              "  </tbody>\n",
              "</table>\n",
              "</div>\n",
              "      <button class=\"colab-df-convert\" onclick=\"convertToInteractive('df-4e1cbe0d-b853-4333-8a96-15ae2495ddad')\"\n",
              "              title=\"Convert this dataframe to an interactive table.\"\n",
              "              style=\"display:none;\">\n",
              "        \n",
              "  <svg xmlns=\"http://www.w3.org/2000/svg\" height=\"24px\"viewBox=\"0 0 24 24\"\n",
              "       width=\"24px\">\n",
              "    <path d=\"M0 0h24v24H0V0z\" fill=\"none\"/>\n",
              "    <path d=\"M18.56 5.44l.94 2.06.94-2.06 2.06-.94-2.06-.94-.94-2.06-.94 2.06-2.06.94zm-11 1L8.5 8.5l.94-2.06 2.06-.94-2.06-.94L8.5 2.5l-.94 2.06-2.06.94zm10 10l.94 2.06.94-2.06 2.06-.94-2.06-.94-.94-2.06-.94 2.06-2.06.94z\"/><path d=\"M17.41 7.96l-1.37-1.37c-.4-.4-.92-.59-1.43-.59-.52 0-1.04.2-1.43.59L10.3 9.45l-7.72 7.72c-.78.78-.78 2.05 0 2.83L4 21.41c.39.39.9.59 1.41.59.51 0 1.02-.2 1.41-.59l7.78-7.78 2.81-2.81c.8-.78.8-2.07 0-2.86zM5.41 20L4 18.59l7.72-7.72 1.47 1.35L5.41 20z\"/>\n",
              "  </svg>\n",
              "      </button>\n",
              "      \n",
              "  <style>\n",
              "    .colab-df-container {\n",
              "      display:flex;\n",
              "      flex-wrap:wrap;\n",
              "      gap: 12px;\n",
              "    }\n",
              "\n",
              "    .colab-df-convert {\n",
              "      background-color: #E8F0FE;\n",
              "      border: none;\n",
              "      border-radius: 50%;\n",
              "      cursor: pointer;\n",
              "      display: none;\n",
              "      fill: #1967D2;\n",
              "      height: 32px;\n",
              "      padding: 0 0 0 0;\n",
              "      width: 32px;\n",
              "    }\n",
              "\n",
              "    .colab-df-convert:hover {\n",
              "      background-color: #E2EBFA;\n",
              "      box-shadow: 0px 1px 2px rgba(60, 64, 67, 0.3), 0px 1px 3px 1px rgba(60, 64, 67, 0.15);\n",
              "      fill: #174EA6;\n",
              "    }\n",
              "\n",
              "    [theme=dark] .colab-df-convert {\n",
              "      background-color: #3B4455;\n",
              "      fill: #D2E3FC;\n",
              "    }\n",
              "\n",
              "    [theme=dark] .colab-df-convert:hover {\n",
              "      background-color: #434B5C;\n",
              "      box-shadow: 0px 1px 3px 1px rgba(0, 0, 0, 0.15);\n",
              "      filter: drop-shadow(0px 1px 2px rgba(0, 0, 0, 0.3));\n",
              "      fill: #FFFFFF;\n",
              "    }\n",
              "  </style>\n",
              "\n",
              "      <script>\n",
              "        const buttonEl =\n",
              "          document.querySelector('#df-4e1cbe0d-b853-4333-8a96-15ae2495ddad button.colab-df-convert');\n",
              "        buttonEl.style.display =\n",
              "          google.colab.kernel.accessAllowed ? 'block' : 'none';\n",
              "\n",
              "        async function convertToInteractive(key) {\n",
              "          const element = document.querySelector('#df-4e1cbe0d-b853-4333-8a96-15ae2495ddad');\n",
              "          const dataTable =\n",
              "            await google.colab.kernel.invokeFunction('convertToInteractive',\n",
              "                                                     [key], {});\n",
              "          if (!dataTable) return;\n",
              "\n",
              "          const docLinkHtml = 'Like what you see? Visit the ' +\n",
              "            '<a target=\"_blank\" href=https://colab.research.google.com/notebooks/data_table.ipynb>data table notebook</a>'\n",
              "            + ' to learn more about interactive tables.';\n",
              "          element.innerHTML = '';\n",
              "          dataTable['output_type'] = 'display_data';\n",
              "          await google.colab.output.renderOutput(dataTable, element);\n",
              "          const docLink = document.createElement('div');\n",
              "          docLink.innerHTML = docLinkHtml;\n",
              "          element.appendChild(docLink);\n",
              "        }\n",
              "      </script>\n",
              "    </div>\n",
              "  </div>\n",
              "  "
            ]
          },
          "metadata": {},
          "execution_count": 23
        }
      ]
    },
    {
      "cell_type": "code",
      "source": [
        "# Dummificação de várias variáveis de uma unica vez\n",
        "dummificar = ['Pclass', 'Cabin', 'Embarked', 'Titulacao', 'FamiliaTipo']#lista de variáveis a serem dumificadas\n",
        "dataset = pd.get_dummies(dataset, columns = dummificar) #função do pandas que faz a dumificação em massa"
      ],
      "metadata": {
        "id": "S4JdBzaxyYRf"
      },
      "execution_count": null,
      "outputs": []
    },
    {
      "cell_type": "code",
      "source": [
        "dataset.head(1)"
      ],
      "metadata": {
        "colab": {
          "base_uri": "https://localhost:8080/",
          "height": 174
        },
        "id": "7xN7vfe4yZrh",
        "outputId": "cae7d518-da41-4c18-c95d-c1ab96aa59c2"
      },
      "execution_count": null,
      "outputs": [
        {
          "output_type": "execute_result",
          "data": {
            "text/plain": [
              "   Survived  Sex   Age  SibSp  Parch  Fare  Familia  Pclass_1  Pclass_2  \\\n",
              "0       0.0    0  22.0      1      0  7.25        2         0         0   \n",
              "\n",
              "   Pclass_3  ...  Embarked_S  Titulacao_Master  Titulacao_Miss  Titulacao_Mr  \\\n",
              "0         1  ...           1                 0               0             1   \n",
              "\n",
              "   Titulacao_Mrs  Titulacao_Officer  Titulacao_Royalty  FamiliaTipo_Grande  \\\n",
              "0              0                  0                  0                   0   \n",
              "\n",
              "   FamiliaTipo_Pequena  FamiliaTipo_Sozinho  \n",
              "0                    1                    0  \n",
              "\n",
              "[1 rows x 31 columns]"
            ],
            "text/html": [
              "\n",
              "  <div id=\"df-f38a35a4-7911-43da-91a4-e6cd2a0d0527\">\n",
              "    <div class=\"colab-df-container\">\n",
              "      <div>\n",
              "<style scoped>\n",
              "    .dataframe tbody tr th:only-of-type {\n",
              "        vertical-align: middle;\n",
              "    }\n",
              "\n",
              "    .dataframe tbody tr th {\n",
              "        vertical-align: top;\n",
              "    }\n",
              "\n",
              "    .dataframe thead th {\n",
              "        text-align: right;\n",
              "    }\n",
              "</style>\n",
              "<table border=\"1\" class=\"dataframe\">\n",
              "  <thead>\n",
              "    <tr style=\"text-align: right;\">\n",
              "      <th></th>\n",
              "      <th>Survived</th>\n",
              "      <th>Sex</th>\n",
              "      <th>Age</th>\n",
              "      <th>SibSp</th>\n",
              "      <th>Parch</th>\n",
              "      <th>Fare</th>\n",
              "      <th>Familia</th>\n",
              "      <th>Pclass_1</th>\n",
              "      <th>Pclass_2</th>\n",
              "      <th>Pclass_3</th>\n",
              "      <th>...</th>\n",
              "      <th>Embarked_S</th>\n",
              "      <th>Titulacao_Master</th>\n",
              "      <th>Titulacao_Miss</th>\n",
              "      <th>Titulacao_Mr</th>\n",
              "      <th>Titulacao_Mrs</th>\n",
              "      <th>Titulacao_Officer</th>\n",
              "      <th>Titulacao_Royalty</th>\n",
              "      <th>FamiliaTipo_Grande</th>\n",
              "      <th>FamiliaTipo_Pequena</th>\n",
              "      <th>FamiliaTipo_Sozinho</th>\n",
              "    </tr>\n",
              "  </thead>\n",
              "  <tbody>\n",
              "    <tr>\n",
              "      <th>0</th>\n",
              "      <td>0.0</td>\n",
              "      <td>0</td>\n",
              "      <td>22.0</td>\n",
              "      <td>1</td>\n",
              "      <td>0</td>\n",
              "      <td>7.25</td>\n",
              "      <td>2</td>\n",
              "      <td>0</td>\n",
              "      <td>0</td>\n",
              "      <td>1</td>\n",
              "      <td>...</td>\n",
              "      <td>1</td>\n",
              "      <td>0</td>\n",
              "      <td>0</td>\n",
              "      <td>1</td>\n",
              "      <td>0</td>\n",
              "      <td>0</td>\n",
              "      <td>0</td>\n",
              "      <td>0</td>\n",
              "      <td>1</td>\n",
              "      <td>0</td>\n",
              "    </tr>\n",
              "  </tbody>\n",
              "</table>\n",
              "<p>1 rows × 31 columns</p>\n",
              "</div>\n",
              "      <button class=\"colab-df-convert\" onclick=\"convertToInteractive('df-f38a35a4-7911-43da-91a4-e6cd2a0d0527')\"\n",
              "              title=\"Convert this dataframe to an interactive table.\"\n",
              "              style=\"display:none;\">\n",
              "        \n",
              "  <svg xmlns=\"http://www.w3.org/2000/svg\" height=\"24px\"viewBox=\"0 0 24 24\"\n",
              "       width=\"24px\">\n",
              "    <path d=\"M0 0h24v24H0V0z\" fill=\"none\"/>\n",
              "    <path d=\"M18.56 5.44l.94 2.06.94-2.06 2.06-.94-2.06-.94-.94-2.06-.94 2.06-2.06.94zm-11 1L8.5 8.5l.94-2.06 2.06-.94-2.06-.94L8.5 2.5l-.94 2.06-2.06.94zm10 10l.94 2.06.94-2.06 2.06-.94-2.06-.94-.94-2.06-.94 2.06-2.06.94z\"/><path d=\"M17.41 7.96l-1.37-1.37c-.4-.4-.92-.59-1.43-.59-.52 0-1.04.2-1.43.59L10.3 9.45l-7.72 7.72c-.78.78-.78 2.05 0 2.83L4 21.41c.39.39.9.59 1.41.59.51 0 1.02-.2 1.41-.59l7.78-7.78 2.81-2.81c.8-.78.8-2.07 0-2.86zM5.41 20L4 18.59l7.72-7.72 1.47 1.35L5.41 20z\"/>\n",
              "  </svg>\n",
              "      </button>\n",
              "      \n",
              "  <style>\n",
              "    .colab-df-container {\n",
              "      display:flex;\n",
              "      flex-wrap:wrap;\n",
              "      gap: 12px;\n",
              "    }\n",
              "\n",
              "    .colab-df-convert {\n",
              "      background-color: #E8F0FE;\n",
              "      border: none;\n",
              "      border-radius: 50%;\n",
              "      cursor: pointer;\n",
              "      display: none;\n",
              "      fill: #1967D2;\n",
              "      height: 32px;\n",
              "      padding: 0 0 0 0;\n",
              "      width: 32px;\n",
              "    }\n",
              "\n",
              "    .colab-df-convert:hover {\n",
              "      background-color: #E2EBFA;\n",
              "      box-shadow: 0px 1px 2px rgba(60, 64, 67, 0.3), 0px 1px 3px 1px rgba(60, 64, 67, 0.15);\n",
              "      fill: #174EA6;\n",
              "    }\n",
              "\n",
              "    [theme=dark] .colab-df-convert {\n",
              "      background-color: #3B4455;\n",
              "      fill: #D2E3FC;\n",
              "    }\n",
              "\n",
              "    [theme=dark] .colab-df-convert:hover {\n",
              "      background-color: #434B5C;\n",
              "      box-shadow: 0px 1px 3px 1px rgba(0, 0, 0, 0.15);\n",
              "      filter: drop-shadow(0px 1px 2px rgba(0, 0, 0, 0.3));\n",
              "      fill: #FFFFFF;\n",
              "    }\n",
              "  </style>\n",
              "\n",
              "      <script>\n",
              "        const buttonEl =\n",
              "          document.querySelector('#df-f38a35a4-7911-43da-91a4-e6cd2a0d0527 button.colab-df-convert');\n",
              "        buttonEl.style.display =\n",
              "          google.colab.kernel.accessAllowed ? 'block' : 'none';\n",
              "\n",
              "        async function convertToInteractive(key) {\n",
              "          const element = document.querySelector('#df-f38a35a4-7911-43da-91a4-e6cd2a0d0527');\n",
              "          const dataTable =\n",
              "            await google.colab.kernel.invokeFunction('convertToInteractive',\n",
              "                                                     [key], {});\n",
              "          if (!dataTable) return;\n",
              "\n",
              "          const docLinkHtml = 'Like what you see? Visit the ' +\n",
              "            '<a target=\"_blank\" href=https://colab.research.google.com/notebooks/data_table.ipynb>data table notebook</a>'\n",
              "            + ' to learn more about interactive tables.';\n",
              "          element.innerHTML = '';\n",
              "          dataTable['output_type'] = 'display_data';\n",
              "          await google.colab.output.renderOutput(dataTable, element);\n",
              "          const docLink = document.createElement('div');\n",
              "          docLink.innerHTML = docLinkHtml;\n",
              "          element.appendChild(docLink);\n",
              "        }\n",
              "      </script>\n",
              "    </div>\n",
              "  </div>\n",
              "  "
            ]
          },
          "metadata": {},
          "execution_count": 25
        }
      ]
    },
    {
      "cell_type": "code",
      "source": [
        "dataset.isnull().sum()"
      ],
      "metadata": {
        "colab": {
          "base_uri": "https://localhost:8080/"
        },
        "id": "DrReFzTaycno",
        "outputId": "f620dc7a-a53b-4718-c215-0ee7690a25d5"
      },
      "execution_count": null,
      "outputs": [
        {
          "output_type": "execute_result",
          "data": {
            "text/plain": [
              "Survived               418\n",
              "Sex                      0\n",
              "Age                    263\n",
              "SibSp                    0\n",
              "Parch                    0\n",
              "Fare                     1\n",
              "Familia                  0\n",
              "Pclass_1                 0\n",
              "Pclass_2                 0\n",
              "Pclass_3                 0\n",
              "Cabin_A                  0\n",
              "Cabin_B                  0\n",
              "Cabin_C                  0\n",
              "Cabin_D                  0\n",
              "Cabin_E                  0\n",
              "Cabin_F                  0\n",
              "Cabin_G                  0\n",
              "Cabin_T                  0\n",
              "Cabin_n                  0\n",
              "Embarked_C               0\n",
              "Embarked_Q               0\n",
              "Embarked_S               0\n",
              "Titulacao_Master         0\n",
              "Titulacao_Miss           0\n",
              "Titulacao_Mr             0\n",
              "Titulacao_Mrs            0\n",
              "Titulacao_Officer        0\n",
              "Titulacao_Royalty        0\n",
              "FamiliaTipo_Grande       0\n",
              "FamiliaTipo_Pequena      0\n",
              "FamiliaTipo_Sozinho      0\n",
              "dtype: int64"
            ]
          },
          "metadata": {},
          "execution_count": 27
        }
      ]
    },
    {
      "cell_type": "markdown",
      "source": [
        "# Imlput de dados Faltantes"
      ],
      "metadata": {
        "id": "STGSCeKvyl-y"
      }
    },
    {
      "cell_type": "code",
      "source": [
        "#IMPUTAÇÂO COM KNN em todas os dados faltantes\n",
        "from sklearn.impute import KNNImputer \n",
        "\n",
        "imputer = KNNImputer()#cria um objeto com a instancia KnnImputer\n",
        "\n",
        "knnimp = imputer.fit(dataset.loc[:n-1, :].drop('Survived', axis = 1))#Faz o treinamento com os dados de treinamento\n",
        "\n",
        "knnimp = imputer.transform(dataset.drop('Survived', axis = 1))#faz o preenchimento no conjutno de treino"
      ],
      "metadata": {
        "id": "LD3M9fDkygnc"
      },
      "execution_count": null,
      "outputs": []
    },
    {
      "cell_type": "code",
      "source": [
        "knnimp #este é o data set em formato de numpy array, precisa tranformar em data frame para retornar ao formato original"
      ],
      "metadata": {
        "colab": {
          "base_uri": "https://localhost:8080/"
        },
        "id": "0aXe_qYTyqA-",
        "outputId": "ce918848-76b4-4409-e07f-0eeb9c332d37"
      },
      "execution_count": null,
      "outputs": [
        {
          "output_type": "execute_result",
          "data": {
            "text/plain": [
              "array([[ 0. , 22. ,  1. , ...,  0. ,  1. ,  0. ],\n",
              "       [ 1. , 38. ,  1. , ...,  0. ,  1. ,  0. ],\n",
              "       [ 1. , 26. ,  0. , ...,  0. ,  0. ,  1. ],\n",
              "       ...,\n",
              "       [ 0. , 38.5,  0. , ...,  0. ,  0. ,  1. ],\n",
              "       [ 0. , 28.6,  0. , ...,  0. ,  0. ,  1. ],\n",
              "       [ 0. , 16.6,  1. , ...,  0. ,  1. ,  0. ]])"
            ]
          },
          "metadata": {},
          "execution_count": 29
        }
      ]
    },
    {
      "cell_type": "code",
      "source": [
        "dataset = pd.DataFrame(knnimp, columns = dataset.columns[1:]) #tranforma novamente em um data frame preenchendo as lacunas\n",
        "#columns para pegar de volta o nome das colunas que haviam se perdido na imputação"
      ],
      "metadata": {
        "id": "ynPvUSvkyrXG"
      },
      "execution_count": null,
      "outputs": []
    },
    {
      "cell_type": "code",
      "source": [
        " dataset.isnull().sum()"
      ],
      "metadata": {
        "colab": {
          "base_uri": "https://localhost:8080/"
        },
        "id": "W05DjQG5yssO",
        "outputId": "b63641fa-9394-4802-ab54-edac5fd7e3dc"
      },
      "execution_count": null,
      "outputs": [
        {
          "output_type": "execute_result",
          "data": {
            "text/plain": [
              "Sex                    0\n",
              "Age                    0\n",
              "SibSp                  0\n",
              "Parch                  0\n",
              "Fare                   0\n",
              "Familia                0\n",
              "Pclass_1               0\n",
              "Pclass_2               0\n",
              "Pclass_3               0\n",
              "Cabin_A                0\n",
              "Cabin_B                0\n",
              "Cabin_C                0\n",
              "Cabin_D                0\n",
              "Cabin_E                0\n",
              "Cabin_F                0\n",
              "Cabin_G                0\n",
              "Cabin_T                0\n",
              "Cabin_n                0\n",
              "Embarked_C             0\n",
              "Embarked_Q             0\n",
              "Embarked_S             0\n",
              "Titulacao_Master       0\n",
              "Titulacao_Miss         0\n",
              "Titulacao_Mr           0\n",
              "Titulacao_Mrs          0\n",
              "Titulacao_Officer      0\n",
              "Titulacao_Royalty      0\n",
              "FamiliaTipo_Grande     0\n",
              "FamiliaTipo_Pequena    0\n",
              "FamiliaTipo_Sozinho    0\n",
              "dtype: int64"
            ]
          },
          "metadata": {},
          "execution_count": 31
        }
      ]
    },
    {
      "cell_type": "code",
      "source": [
        "#separa novamente o conjunto em treino e teste, depois de todas as modificações feitas\n",
        "#a variável resposta do treino esta na Target, separada do conjunto\n",
        "treino = dataset.loc[:n-1, :]\n",
        "teste = dataset.loc[n:, :]"
      ],
      "metadata": {
        "id": "9406JuPvyt6o"
      },
      "execution_count": null,
      "outputs": []
    },
    {
      "cell_type": "code",
      "source": [
        "treino.shape"
      ],
      "metadata": {
        "colab": {
          "base_uri": "https://localhost:8080/"
        },
        "id": "KwrNN6eEyu-n",
        "outputId": "60689746-264f-4ede-a157-74d9d8c1fad3"
      },
      "execution_count": null,
      "outputs": [
        {
          "output_type": "execute_result",
          "data": {
            "text/plain": [
              "(891, 30)"
            ]
          },
          "metadata": {},
          "execution_count": 33
        }
      ]
    },
    {
      "cell_type": "code",
      "source": [
        "#faz a normalização subtraindo a média e dividindo pelo desvio padrão para ficar entre -2 e 2\n",
        "from sklearn.preprocessing import StandardScaler\n",
        "sc = StandardScaler()\n",
        "\n",
        "aux0 = sc.fit_transform(treino[['Age', 'Fare']])\n",
        "aux1 = pd.DataFrame(aux0, columns = ['Idade', 'Tarifa'])#cria novas colunas idade e tarifa normalizadas\n",
        "treino = pd.concat([treino, aux1], axis = 1)#adiciona ao conunto de treino\n",
        "treino.drop(['Age', 'Fare'], axis = 1, inplace = True) #deleta as colunas antigas não padronizadas"
      ],
      "metadata": {
        "id": "HufY9QDlzOXZ"
      },
      "execution_count": null,
      "outputs": []
    },
    {
      "cell_type": "code",
      "source": [
        "#faz o vamaento de dados para o conjunto de teste, aplicando as mesmas etapas acima \n",
        "aux0 = sc.transform(teste[['Age', 'Fare']])\n",
        "aux1 = pd.DataFrame(aux0, columns = ['Idade', 'Tarifa'])\n",
        "teste = teste.reset_index()\n",
        "teste = pd.concat([teste, aux1], axis = 1)\n",
        "teste.drop(['Age', 'Fare', 'index'], axis = 1, inplace = True) "
      ],
      "metadata": {
        "id": "Oecs19LMzR9r"
      },
      "execution_count": null,
      "outputs": []
    },
    {
      "cell_type": "code",
      "source": [
        "from sklearn.ensemble import RandomForestClassifier "
      ],
      "metadata": {
        "id": "31A1k3mPzVYH"
      },
      "execution_count": null,
      "outputs": []
    },
    {
      "cell_type": "code",
      "source": [
        "modelo_base = RandomForestClassifier(max_depth=3) \n",
        "modelo_base.fit(treino, targets) "
      ],
      "metadata": {
        "colab": {
          "base_uri": "https://localhost:8080/"
        },
        "id": "OeDucma3zWOo",
        "outputId": "8b7b1141-6278-44f2-c9b7-6085f0de93e8"
      },
      "execution_count": null,
      "outputs": [
        {
          "output_type": "execute_result",
          "data": {
            "text/plain": [
              "RandomForestClassifier(max_depth=3)"
            ]
          },
          "metadata": {},
          "execution_count": 37
        }
      ]
    },
    {
      "cell_type": "code",
      "source": [
        "#Array que mostra a importância de cada variável usada para contruir o modelo\n",
        "modelo_base.feature_importances_"
      ],
      "metadata": {
        "colab": {
          "base_uri": "https://localhost:8080/"
        },
        "id": "bSwIj1I9zXXC",
        "outputId": "adbc9c2a-2a3e-4f12-ba7e-c7c74ddff0e3"
      },
      "execution_count": null,
      "outputs": [
        {
          "output_type": "execute_result",
          "data": {
            "text/plain": [
              "array([2.13455552e-01, 1.39545877e-02, 7.41837144e-03, 3.54359087e-02,\n",
              "       3.66762296e-02, 3.60221611e-03, 6.48836474e-02, 0.00000000e+00,\n",
              "       4.04949235e-03, 2.90838214e-03, 6.02886816e-03, 9.35160598e-03,\n",
              "       8.46159596e-05, 3.42051715e-04, 4.76713662e-05, 4.69407187e-02,\n",
              "       7.05257359e-03, 2.22304743e-03, 9.18308692e-03, 6.62730611e-03,\n",
              "       8.72878811e-02, 2.49542711e-01, 6.59430480e-02, 1.61297554e-03,\n",
              "       1.63105330e-04, 1.62974193e-02, 2.46276044e-02, 9.98932120e-03,\n",
              "       2.15708729e-02, 5.26991283e-02])"
            ]
          },
          "metadata": {},
          "execution_count": 38
        }
      ]
    },
    {
      "cell_type": "code",
      "source": [
        "variaveis = pd.DataFrame()#tranforma em um data frame para melhor visualização\n",
        "variaveis['variavel'] = treino.columns#pega os nome das colunas\n",
        "variaveis['importância'] = modelo_base.feature_importances_#atribui os valores\n",
        "variaveis.sort_values(by = \"importância\", ascending = False)#organiza por ordem decrescente de importância"
      ],
      "metadata": {
        "colab": {
          "base_uri": "https://localhost:8080/",
          "height": 990
        },
        "id": "qRw8VboTzZr4",
        "outputId": "ea11e61b-f9cb-4662-ed91-e89d0629f015"
      },
      "execution_count": null,
      "outputs": [
        {
          "output_type": "execute_result",
          "data": {
            "text/plain": [
              "               variavel  importância\n",
              "21         Titulacao_Mr     0.249543\n",
              "0                   Sex     0.213456\n",
              "20       Titulacao_Miss     0.087288\n",
              "22        Titulacao_Mrs     0.065943\n",
              "6              Pclass_3     0.064884\n",
              "29               Tarifa     0.052699\n",
              "15              Cabin_n     0.046941\n",
              "4              Pclass_1     0.036676\n",
              "3               Familia     0.035436\n",
              "26  FamiliaTipo_Pequena     0.024628\n",
              "28                Idade     0.021571\n",
              "25   FamiliaTipo_Grande     0.016297\n",
              "1                 SibSp     0.013955\n",
              "27  FamiliaTipo_Sozinho     0.009989\n",
              "11              Cabin_E     0.009352\n",
              "18           Embarked_S     0.009183\n",
              "2                 Parch     0.007418\n",
              "16           Embarked_C     0.007053\n",
              "19     Titulacao_Master     0.006627\n",
              "10              Cabin_D     0.006029\n",
              "8               Cabin_B     0.004049\n",
              "5              Pclass_2     0.003602\n",
              "9               Cabin_C     0.002908\n",
              "17           Embarked_Q     0.002223\n",
              "23    Titulacao_Officer     0.001613\n",
              "13              Cabin_G     0.000342\n",
              "24    Titulacao_Royalty     0.000163\n",
              "12              Cabin_F     0.000085\n",
              "14              Cabin_T     0.000048\n",
              "7               Cabin_A     0.000000"
            ],
            "text/html": [
              "\n",
              "  <div id=\"df-62bf9c72-6527-4d91-af6f-b20c2058af77\">\n",
              "    <div class=\"colab-df-container\">\n",
              "      <div>\n",
              "<style scoped>\n",
              "    .dataframe tbody tr th:only-of-type {\n",
              "        vertical-align: middle;\n",
              "    }\n",
              "\n",
              "    .dataframe tbody tr th {\n",
              "        vertical-align: top;\n",
              "    }\n",
              "\n",
              "    .dataframe thead th {\n",
              "        text-align: right;\n",
              "    }\n",
              "</style>\n",
              "<table border=\"1\" class=\"dataframe\">\n",
              "  <thead>\n",
              "    <tr style=\"text-align: right;\">\n",
              "      <th></th>\n",
              "      <th>variavel</th>\n",
              "      <th>importância</th>\n",
              "    </tr>\n",
              "  </thead>\n",
              "  <tbody>\n",
              "    <tr>\n",
              "      <th>21</th>\n",
              "      <td>Titulacao_Mr</td>\n",
              "      <td>0.249543</td>\n",
              "    </tr>\n",
              "    <tr>\n",
              "      <th>0</th>\n",
              "      <td>Sex</td>\n",
              "      <td>0.213456</td>\n",
              "    </tr>\n",
              "    <tr>\n",
              "      <th>20</th>\n",
              "      <td>Titulacao_Miss</td>\n",
              "      <td>0.087288</td>\n",
              "    </tr>\n",
              "    <tr>\n",
              "      <th>22</th>\n",
              "      <td>Titulacao_Mrs</td>\n",
              "      <td>0.065943</td>\n",
              "    </tr>\n",
              "    <tr>\n",
              "      <th>6</th>\n",
              "      <td>Pclass_3</td>\n",
              "      <td>0.064884</td>\n",
              "    </tr>\n",
              "    <tr>\n",
              "      <th>29</th>\n",
              "      <td>Tarifa</td>\n",
              "      <td>0.052699</td>\n",
              "    </tr>\n",
              "    <tr>\n",
              "      <th>15</th>\n",
              "      <td>Cabin_n</td>\n",
              "      <td>0.046941</td>\n",
              "    </tr>\n",
              "    <tr>\n",
              "      <th>4</th>\n",
              "      <td>Pclass_1</td>\n",
              "      <td>0.036676</td>\n",
              "    </tr>\n",
              "    <tr>\n",
              "      <th>3</th>\n",
              "      <td>Familia</td>\n",
              "      <td>0.035436</td>\n",
              "    </tr>\n",
              "    <tr>\n",
              "      <th>26</th>\n",
              "      <td>FamiliaTipo_Pequena</td>\n",
              "      <td>0.024628</td>\n",
              "    </tr>\n",
              "    <tr>\n",
              "      <th>28</th>\n",
              "      <td>Idade</td>\n",
              "      <td>0.021571</td>\n",
              "    </tr>\n",
              "    <tr>\n",
              "      <th>25</th>\n",
              "      <td>FamiliaTipo_Grande</td>\n",
              "      <td>0.016297</td>\n",
              "    </tr>\n",
              "    <tr>\n",
              "      <th>1</th>\n",
              "      <td>SibSp</td>\n",
              "      <td>0.013955</td>\n",
              "    </tr>\n",
              "    <tr>\n",
              "      <th>27</th>\n",
              "      <td>FamiliaTipo_Sozinho</td>\n",
              "      <td>0.009989</td>\n",
              "    </tr>\n",
              "    <tr>\n",
              "      <th>11</th>\n",
              "      <td>Cabin_E</td>\n",
              "      <td>0.009352</td>\n",
              "    </tr>\n",
              "    <tr>\n",
              "      <th>18</th>\n",
              "      <td>Embarked_S</td>\n",
              "      <td>0.009183</td>\n",
              "    </tr>\n",
              "    <tr>\n",
              "      <th>2</th>\n",
              "      <td>Parch</td>\n",
              "      <td>0.007418</td>\n",
              "    </tr>\n",
              "    <tr>\n",
              "      <th>16</th>\n",
              "      <td>Embarked_C</td>\n",
              "      <td>0.007053</td>\n",
              "    </tr>\n",
              "    <tr>\n",
              "      <th>19</th>\n",
              "      <td>Titulacao_Master</td>\n",
              "      <td>0.006627</td>\n",
              "    </tr>\n",
              "    <tr>\n",
              "      <th>10</th>\n",
              "      <td>Cabin_D</td>\n",
              "      <td>0.006029</td>\n",
              "    </tr>\n",
              "    <tr>\n",
              "      <th>8</th>\n",
              "      <td>Cabin_B</td>\n",
              "      <td>0.004049</td>\n",
              "    </tr>\n",
              "    <tr>\n",
              "      <th>5</th>\n",
              "      <td>Pclass_2</td>\n",
              "      <td>0.003602</td>\n",
              "    </tr>\n",
              "    <tr>\n",
              "      <th>9</th>\n",
              "      <td>Cabin_C</td>\n",
              "      <td>0.002908</td>\n",
              "    </tr>\n",
              "    <tr>\n",
              "      <th>17</th>\n",
              "      <td>Embarked_Q</td>\n",
              "      <td>0.002223</td>\n",
              "    </tr>\n",
              "    <tr>\n",
              "      <th>23</th>\n",
              "      <td>Titulacao_Officer</td>\n",
              "      <td>0.001613</td>\n",
              "    </tr>\n",
              "    <tr>\n",
              "      <th>13</th>\n",
              "      <td>Cabin_G</td>\n",
              "      <td>0.000342</td>\n",
              "    </tr>\n",
              "    <tr>\n",
              "      <th>24</th>\n",
              "      <td>Titulacao_Royalty</td>\n",
              "      <td>0.000163</td>\n",
              "    </tr>\n",
              "    <tr>\n",
              "      <th>12</th>\n",
              "      <td>Cabin_F</td>\n",
              "      <td>0.000085</td>\n",
              "    </tr>\n",
              "    <tr>\n",
              "      <th>14</th>\n",
              "      <td>Cabin_T</td>\n",
              "      <td>0.000048</td>\n",
              "    </tr>\n",
              "    <tr>\n",
              "      <th>7</th>\n",
              "      <td>Cabin_A</td>\n",
              "      <td>0.000000</td>\n",
              "    </tr>\n",
              "  </tbody>\n",
              "</table>\n",
              "</div>\n",
              "      <button class=\"colab-df-convert\" onclick=\"convertToInteractive('df-62bf9c72-6527-4d91-af6f-b20c2058af77')\"\n",
              "              title=\"Convert this dataframe to an interactive table.\"\n",
              "              style=\"display:none;\">\n",
              "        \n",
              "  <svg xmlns=\"http://www.w3.org/2000/svg\" height=\"24px\"viewBox=\"0 0 24 24\"\n",
              "       width=\"24px\">\n",
              "    <path d=\"M0 0h24v24H0V0z\" fill=\"none\"/>\n",
              "    <path d=\"M18.56 5.44l.94 2.06.94-2.06 2.06-.94-2.06-.94-.94-2.06-.94 2.06-2.06.94zm-11 1L8.5 8.5l.94-2.06 2.06-.94-2.06-.94L8.5 2.5l-.94 2.06-2.06.94zm10 10l.94 2.06.94-2.06 2.06-.94-2.06-.94-.94-2.06-.94 2.06-2.06.94z\"/><path d=\"M17.41 7.96l-1.37-1.37c-.4-.4-.92-.59-1.43-.59-.52 0-1.04.2-1.43.59L10.3 9.45l-7.72 7.72c-.78.78-.78 2.05 0 2.83L4 21.41c.39.39.9.59 1.41.59.51 0 1.02-.2 1.41-.59l7.78-7.78 2.81-2.81c.8-.78.8-2.07 0-2.86zM5.41 20L4 18.59l7.72-7.72 1.47 1.35L5.41 20z\"/>\n",
              "  </svg>\n",
              "      </button>\n",
              "      \n",
              "  <style>\n",
              "    .colab-df-container {\n",
              "      display:flex;\n",
              "      flex-wrap:wrap;\n",
              "      gap: 12px;\n",
              "    }\n",
              "\n",
              "    .colab-df-convert {\n",
              "      background-color: #E8F0FE;\n",
              "      border: none;\n",
              "      border-radius: 50%;\n",
              "      cursor: pointer;\n",
              "      display: none;\n",
              "      fill: #1967D2;\n",
              "      height: 32px;\n",
              "      padding: 0 0 0 0;\n",
              "      width: 32px;\n",
              "    }\n",
              "\n",
              "    .colab-df-convert:hover {\n",
              "      background-color: #E2EBFA;\n",
              "      box-shadow: 0px 1px 2px rgba(60, 64, 67, 0.3), 0px 1px 3px 1px rgba(60, 64, 67, 0.15);\n",
              "      fill: #174EA6;\n",
              "    }\n",
              "\n",
              "    [theme=dark] .colab-df-convert {\n",
              "      background-color: #3B4455;\n",
              "      fill: #D2E3FC;\n",
              "    }\n",
              "\n",
              "    [theme=dark] .colab-df-convert:hover {\n",
              "      background-color: #434B5C;\n",
              "      box-shadow: 0px 1px 3px 1px rgba(0, 0, 0, 0.15);\n",
              "      filter: drop-shadow(0px 1px 2px rgba(0, 0, 0, 0.3));\n",
              "      fill: #FFFFFF;\n",
              "    }\n",
              "  </style>\n",
              "\n",
              "      <script>\n",
              "        const buttonEl =\n",
              "          document.querySelector('#df-62bf9c72-6527-4d91-af6f-b20c2058af77 button.colab-df-convert');\n",
              "        buttonEl.style.display =\n",
              "          google.colab.kernel.accessAllowed ? 'block' : 'none';\n",
              "\n",
              "        async function convertToInteractive(key) {\n",
              "          const element = document.querySelector('#df-62bf9c72-6527-4d91-af6f-b20c2058af77');\n",
              "          const dataTable =\n",
              "            await google.colab.kernel.invokeFunction('convertToInteractive',\n",
              "                                                     [key], {});\n",
              "          if (!dataTable) return;\n",
              "\n",
              "          const docLinkHtml = 'Like what you see? Visit the ' +\n",
              "            '<a target=\"_blank\" href=https://colab.research.google.com/notebooks/data_table.ipynb>data table notebook</a>'\n",
              "            + ' to learn more about interactive tables.';\n",
              "          element.innerHTML = '';\n",
              "          dataTable['output_type'] = 'display_data';\n",
              "          await google.colab.output.renderOutput(dataTable, element);\n",
              "          const docLink = document.createElement('div');\n",
              "          docLink.innerHTML = docLinkHtml;\n",
              "          element.appendChild(docLink);\n",
              "        }\n",
              "      </script>\n",
              "    </div>\n",
              "  </div>\n",
              "  "
            ]
          },
          "metadata": {},
          "execution_count": 39
        }
      ]
    },
    {
      "cell_type": "code",
      "source": [
        "#Traz de forma grafica para melhor vizualisção\n",
        "variaveis.sort_values(by = 'importância', ascending = True, inplace = True)\n",
        "variaveis.set_index('variavel', inplace = True)\n",
        "variaveis.plot(kind='barh', figsize=(15, 15));"
      ],
      "metadata": {
        "colab": {
          "base_uri": "https://localhost:8080/",
          "height": 756
        },
        "id": "5ar5n3-Oza07",
        "outputId": "eb8d6e2d-30fa-40e3-def4-d01335f17958"
      },
      "execution_count": null,
      "outputs": [
        {
          "output_type": "display_data",
          "data": {
            "text/plain": [
              "<Figure size 1080x1080 with 1 Axes>"
            ],
            "image/png": "[encoded data removed]"
          },
          "metadata": {
            "needs_background": "light"
          }
        }
      ]
    },
    {
      "cell_type": "markdown",
      "source": [
        "#Selecionando as variáveis mais importantes"
      ],
      "metadata": {
        "id": "sDdXL1W5zds9"
      }
    },
    {
      "cell_type": "code",
      "source": [
        "from sklearn.feature_selection import SelectFromModel\n",
        "#Seleciona a quantidade de variaveis\n",
        "seletor = SelectFromModel(modelo_base, prefit = True, max_features = 11, threshold = -np.inf)#modelo base, prefit , max_features = maximo de variáveis\n",
        "\n",
        "treino_reduzido = seletor.transform(treino)#filtra o conjunto de dados baseado no select\n",
        "print(treino_reduzido.shape) \n",
        "\n",
        "teste_reduzido = seletor.transform(teste)#filtra o conjunto de dados para o teste\n",
        "print(teste_reduzido.shape)"
      ],
      "metadata": {
        "colab": {
          "base_uri": "https://localhost:8080/"
        },
        "id": "GRKdSthFzf-8",
        "outputId": "832d4003-e242-4e36-fd37-d8c40284ca30"
      },
      "execution_count": null,
      "outputs": [
        {
          "output_type": "stream",
          "name": "stdout",
          "text": [
            "(891, 11)\n",
            "(418, 11)\n"
          ]
        },
        {
          "output_type": "stream",
          "name": "stderr",
          "text": [
            "/usr/local/lib/python3.7/dist-packages/sklearn/base.py:444: UserWarning: X has feature names, but SelectFromModel was fitted without feature names\n",
            "  f\"X has feature names, but {self.__class__.__name__} was fitted without\"\n",
            "/usr/local/lib/python3.7/dist-packages/sklearn/base.py:444: UserWarning: X has feature names, but SelectFromModel was fitted without feature names\n",
            "  f\"X has feature names, but {self.__class__.__name__} was fitted without\"\n"
          ]
        }
      ]
    },
    {
      "cell_type": "markdown",
      "source": [
        "#Grid Search"
      ],
      "metadata": {
        "id": "4MtEm15WzqPg"
      }
    },
    {
      "cell_type": "code",
      "source": [
        "#modelos de classificação\n",
        "from sklearn.linear_model import LogisticRegression\n",
        "from sklearn.tree import DecisionTreeClassifier\n",
        "from sklearn.neighbors import KNeighborsClassifier\n",
        "from sklearn.ensemble import RandomForestClassifier\n",
        "from sklearn.ensemble import BaggingClassifier\n",
        "\n",
        "from sklearn.model_selection import cross_validate\n",
        "from sklearn.model_selection import RepeatedStratifiedKFold#a proporção das variáveis resposta são mantidas\n",
        "\n",
        "#\n",
        "from sklearn.model_selection import RandomizedSearchCV#procuração aleatória em validação cruzada\n",
        "from sklearn.model_selection import GridSearchCV#procura em Grid em validação cruzada"
      ],
      "metadata": {
        "id": "gd4HKOuvzrhp"
      },
      "execution_count": null,
      "outputs": []
    },
    {
      "cell_type": "code",
      "source": [
        "np.arange(1, 50, 2)"
      ],
      "metadata": {
        "colab": {
          "base_uri": "https://localhost:8080/"
        },
        "id": "WeZU3OawztN8",
        "outputId": "d1ae4fd9-9096-455c-e5b2-b5bc46b4f99c"
      },
      "execution_count": null,
      "outputs": [
        {
          "output_type": "execute_result",
          "data": {
            "text/plain": [
              "array([ 1,  3,  5,  7,  9, 11, 13, 15, 17, 19, 21, 23, 25, 27, 29, 31, 33,\n",
              "       35, 37, 39, 41, 43, 45, 47, 49])"
            ]
          },
          "metadata": {},
          "execution_count": 43
        }
      ]
    },
    {
      "cell_type": "code",
      "source": [
        "modelo = KNeighborsClassifier()\n",
        "\n",
        "validacao = RepeatedStratifiedKFold(n_splits=10, n_repeats=10)# Validação utilizada\n",
        "\n",
        "parametros = {'n_neighbors' : np.arange(1, 50, 2) }#parametros que vão variar na procura, deve ser passado como dicionario, associado a lista ou vetor que vai variar\n",
        "\n",
        "grid_search = GridSearchCV(modelo, param_grid= parametros, #modelo usado, parametros que vão variar\n",
        "                           scoring = 'accuracy', #procura da melhor métrica a ser apromorada \n",
        "                           cv = validacao,\n",
        "                           verbose = 1,\n",
        "                           n_jobs = -1)\n",
        "grid_search.fit(treino, targets)"
      ],
      "metadata": {
        "colab": {
          "base_uri": "https://localhost:8080/"
        },
        "id": "dRbeeQefzuQ3",
        "outputId": "6a5e09a8-fe85-4f88-a103-ca4087b1ffb9"
      },
      "execution_count": null,
      "outputs": [
        {
          "output_type": "stream",
          "name": "stdout",
          "text": [
            "Fitting 100 folds for each of 25 candidates, totalling 2500 fits\n"
          ]
        },
        {
          "output_type": "execute_result",
          "data": {
            "text/plain": [
              "GridSearchCV(cv=RepeatedStratifiedKFold(n_repeats=10, n_splits=10, random_state=None),\n",
              "             estimator=KNeighborsClassifier(), n_jobs=-1,\n",
              "             param_grid={'n_neighbors': array([ 1,  3,  5,  7,  9, 11, 13, 15, 17, 19, 21, 23, 25, 27, 29, 31, 33,\n",
              "       35, 37, 39, 41, 43, 45, 47, 49])},\n",
              "             scoring='accuracy', verbose=1)"
            ]
          },
          "metadata": {},
          "execution_count": 44
        }
      ]
    },
    {
      "cell_type": "code",
      "source": [
        "grid_search.best_estimator_ #traz o melhor parâmetro encontrado\n",
        "grid_search.cv_results_ #Traz todos os resultado alcançados\n",
        "grid_search.cv_results_['mean_test_score']#.mean()#traz as médias dos knn(1,3,5,7,...,49)"
      ],
      "metadata": {
        "colab": {
          "base_uri": "https://localhost:8080/"
        },
        "id": "yeAga2Bjzwjj",
        "outputId": "97a83318-64fe-4ae7-a23f-9b31ddeabcb0"
      },
      "execution_count": null,
      "outputs": [
        {
          "output_type": "execute_result",
          "data": {
            "text/plain": [
              "array([0.74791511, 0.79258302, 0.80436954, 0.80415356, 0.80090637,\n",
              "       0.80449313, 0.79630337, 0.79607615, 0.79899501, 0.79966542,\n",
              "       0.80168664, 0.8085231 , 0.81042697, 0.81021848, 0.81313483,\n",
              "       0.8121236 , 0.81066542, 0.81066292, 0.80909114, 0.80651685,\n",
              "       0.80449563, 0.8041623 , 0.80404744, 0.80292884, 0.80135081])"
            ]
          },
          "metadata": {},
          "execution_count": 45
        }
      ]
    },
    {
      "cell_type": "markdown",
      "source": [
        "#Definindo como uma função para fazer o grid"
      ],
      "metadata": {
        "id": "RYs4gkf6z3jA"
      }
    },
    {
      "cell_type": "code",
      "source": [
        "def SearchKNN(treino, targets, tipo = 'tudo'): #Função para escolher entre busca Grid e Randomize\n",
        "    parametros = {   \n",
        "                 'n_neighbors' : np.arange(1, 50, 2)\n",
        "                 }\n",
        "\n",
        "    modelo = KNeighborsClassifier()\n",
        "        \n",
        "    validacao = RepeatedStratifiedKFold(n_splits = 10, n_repeats = 10)\n",
        "\n",
        "    if tipo == 'tudo':\n",
        "        search = GridSearchCV(modelo, param_grid = parametros,\n",
        "                                  scoring = 'accuracy', cv = validacao, \n",
        "                                  verbose = 1, n_jobs = -1)#n_jobs = usa VARIOS CLUSTERS\n",
        "    elif tipo == 'aleatorio':\n",
        "        search = RandomizedSearchCV(modelo, param_distributions = parametros,\n",
        "                                scoring = 'accuracy', cv = validacao,\n",
        "                                n_iter = 10, verbose = 1, n_jobs = -1)#n_iter = quantas tentativas aleatórias ele ira tentar\n",
        "    else:\n",
        "        print('entrada invalida no argumento \"tipo\"')\n",
        "\n",
        "\n",
        "    search.fit(treino, targets) \n",
        "\n",
        "    melhor = search.best_estimator_\n",
        "\n",
        "    print('\\nAcuracia: {:.4f}'.format(search.best_score_))\n",
        "    print('Melhores parâmetros: {}\\n'.format(search.best_params_))\n",
        "\n",
        "    return melhor\n",
        "\n",
        "knn = SearchKNN(treino_reduzido, targets, tipo = 'aleatorio')\n"
      ],
      "metadata": {
        "colab": {
          "base_uri": "https://localhost:8080/"
        },
        "id": "b9oUp0SHz6-y",
        "outputId": "d3ebf7a2-86b1-488a-c7cb-83fcba7fe2de"
      },
      "execution_count": null,
      "outputs": [
        {
          "output_type": "stream",
          "name": "stdout",
          "text": [
            "Fitting 100 folds for each of 10 candidates, totalling 1000 fits\n",
            "\n",
            "Acuracia: 0.8165\n",
            "Melhores parâmetros: {'n_neighbors': 33}\n",
            "\n"
          ]
        }
      ]
    },
    {
      "cell_type": "code",
      "source": [
        "def GridSearchRF(treino, targets, tipo = 'tudo'):\n",
        "    parametros = {   \n",
        "                 'max_depth' : [2, 4, 6, 8, 10], #profundidade com 5 parametros\n",
        "                 'n_estimators': [50, 100, 150], # Tamnaho da Floresta\n",
        "                 'max_features': ['sqrt', 'auto', 'log2'], #tamanho do numero de colunas usados para montar a arvore\n",
        "                 'min_samples_split': [2, 5, 10], #minimo de amostras no nó\n",
        "                 'min_samples_leaf': [1, 3, 5], #minimo de amostras nas folhas\n",
        "                 'bootstrap': [True, False] #se vai fazer boostrap dos dados\n",
        "                 }\n",
        "\n",
        "    modelo = RandomForestClassifier()\n",
        "        \n",
        "    validacao = RepeatedStratifiedKFold(n_splits = 10, n_repeats = 1)\n",
        "\n",
        "    if tipo == 'tudo':\n",
        "        grid_search = GridSearchCV(modelo, param_grid = parametros,\n",
        "                                  scoring = 'accuracy', cv = validacao, \n",
        "                                  verbose = 1, n_jobs = -1)\n",
        "    elif tipo == 'aleatorio':\n",
        "        grid_search = RandomizedSearchCV(modelo, param_distributions = parametros,\n",
        "                                scoring = 'accuracy', cv = validacao,\n",
        "                                n_iter = 50, verbose = 1, n_jobs = -1)\n",
        "    else:\n",
        "        print('entrada invalida no argumento \"tipo\"')\n",
        "\n",
        "\n",
        "    grid_search.fit(treino, targets) \n",
        "\n",
        "    melhor_rf = grid_search.best_estimator_\n",
        "\n",
        "    print('\\nAcuracia: {:.4f}'.format(grid_search.best_score_))\n",
        "    print('Melhores parâmetros: {}\\n'.format(grid_search.best_params_))\n",
        "\n",
        "    return melhor_rf\n",
        "\n",
        "rf = GridSearchRF(treino_reduzido, targets, tipo = 'tudo')\n"
      ],
      "metadata": {
        "colab": {
          "base_uri": "https://localhost:8080/",
          "height": 372
        },
        "id": "9rapm8naz2Xs",
        "outputId": "7cb2e42c-65e1-4b17-eb00-fc3e349dba53"
      },
      "execution_count": null,
      "outputs": [
        {
          "output_type": "stream",
          "name": "stdout",
          "text": [
            "Fitting 10 folds for each of 810 candidates, totalling 8100 fits\n"
          ]
        },
        {
          "output_type": "error",
          "ename": "KeyboardInterrupt",
          "evalue": "ignored",
          "traceback": [
            "\u001b[0;31m---------------------------------------------------------------------------\u001b[0m",
            "\u001b[0;31mKeyboardInterrupt\u001b[0m                         Traceback (most recent call last)",
            "\u001b[0;32m<ipython-input-47-4a6c66b4df71>\u001b[0m in \u001b[0;36m<module>\u001b[0;34m()\u001b[0m\n\u001b[1;32m     34\u001b[0m     \u001b[0;32mreturn\u001b[0m \u001b[0mmelhor_rf\u001b[0m\u001b[0;34m\u001b[0m\u001b[0;34m\u001b[0m\u001b[0m\n\u001b[1;32m     35\u001b[0m \u001b[0;34m\u001b[0m\u001b[0m\n\u001b[0;32m---> 36\u001b[0;31m \u001b[0mrf\u001b[0m \u001b[0;34m=\u001b[0m \u001b[0mGridSearchRF\u001b[0m\u001b[0;34m(\u001b[0m\u001b[0mtreino_reduzido\u001b[0m\u001b[0;34m,\u001b[0m \u001b[0mtargets\u001b[0m\u001b[0;34m,\u001b[0m \u001b[0mtipo\u001b[0m \u001b[0;34m=\u001b[0m \u001b[0;34m'tudo'\u001b[0m\u001b[0;34m)\u001b[0m\u001b[0;34m\u001b[0m\u001b[0;34m\u001b[0m\u001b[0m\n\u001b[0m",
            "\u001b[0;32m<ipython-input-47-4a6c66b4df71>\u001b[0m in \u001b[0;36mGridSearchRF\u001b[0;34m(treino, targets, tipo)\u001b[0m\n\u001b[1;32m     25\u001b[0m \u001b[0;34m\u001b[0m\u001b[0m\n\u001b[1;32m     26\u001b[0m \u001b[0;34m\u001b[0m\u001b[0m\n\u001b[0;32m---> 27\u001b[0;31m     \u001b[0mgrid_search\u001b[0m\u001b[0;34m.\u001b[0m\u001b[0mfit\u001b[0m\u001b[0;34m(\u001b[0m\u001b[0mtreino\u001b[0m\u001b[0;34m,\u001b[0m \u001b[0mtargets\u001b[0m\u001b[0;34m)\u001b[0m\u001b[0;34m\u001b[0m\u001b[0;34m\u001b[0m\u001b[0m\n\u001b[0m\u001b[1;32m     28\u001b[0m \u001b[0;34m\u001b[0m\u001b[0m\n\u001b[1;32m     29\u001b[0m     \u001b[0mmelhor_rf\u001b[0m \u001b[0;34m=\u001b[0m \u001b[0mgrid_search\u001b[0m\u001b[0;34m.\u001b[0m\u001b[0mbest_estimator_\u001b[0m\u001b[0;34m\u001b[0m\u001b[0;34m\u001b[0m\u001b[0m\n",
            "\u001b[0;32m/usr/local/lib/python3.7/dist-packages/sklearn/model_selection/_search.py\u001b[0m in \u001b[0;36mfit\u001b[0;34m(self, X, y, groups, **fit_params)\u001b[0m\n\u001b[1;32m    889\u001b[0m                 \u001b[0;32mreturn\u001b[0m \u001b[0mresults\u001b[0m\u001b[0;34m\u001b[0m\u001b[0;34m\u001b[0m\u001b[0m\n\u001b[1;32m    890\u001b[0m \u001b[0;34m\u001b[0m\u001b[0m\n\u001b[0;32m--> 891\u001b[0;31m             \u001b[0mself\u001b[0m\u001b[0;34m.\u001b[0m\u001b[0m_run_search\u001b[0m\u001b[0;34m(\u001b[0m\u001b[0mevaluate_candidates\u001b[0m\u001b[0;34m)\u001b[0m\u001b[0;34m\u001b[0m\u001b[0;34m\u001b[0m\u001b[0m\n\u001b[0m\u001b[1;32m    892\u001b[0m \u001b[0;34m\u001b[0m\u001b[0m\n\u001b[1;32m    893\u001b[0m             \u001b[0;31m# multimetric is determined here because in the case of a callable\u001b[0m\u001b[0;34m\u001b[0m\u001b[0;34m\u001b[0m\u001b[0;34m\u001b[0m\u001b[0m\n",
            "\u001b[0;32m/usr/local/lib/python3.7/dist-packages/sklearn/model_selection/_search.py\u001b[0m in \u001b[0;36m_run_search\u001b[0;34m(self, evaluate_candidates)\u001b[0m\n\u001b[1;32m   1390\u001b[0m     \u001b[0;32mdef\u001b[0m \u001b[0m_run_search\u001b[0m\u001b[0;34m(\u001b[0m\u001b[0mself\u001b[0m\u001b[0;34m,\u001b[0m \u001b[0mevaluate_candidates\u001b[0m\u001b[0;34m)\u001b[0m\u001b[0;34m:\u001b[0m\u001b[0;34m\u001b[0m\u001b[0;34m\u001b[0m\u001b[0m\n\u001b[1;32m   1391\u001b[0m         \u001b[0;34m\"\"\"Search all candidates in param_grid\"\"\"\u001b[0m\u001b[0;34m\u001b[0m\u001b[0;34m\u001b[0m\u001b[0m\n\u001b[0;32m-> 1392\u001b[0;31m         \u001b[0mevaluate_candidates\u001b[0m\u001b[0;34m(\u001b[0m\u001b[0mParameterGrid\u001b[0m\u001b[0;34m(\u001b[0m\u001b[0mself\u001b[0m\u001b[0;34m.\u001b[0m\u001b[0mparam_grid\u001b[0m\u001b[0;34m)\u001b[0m\u001b[0;34m)\u001b[0m\u001b[0;34m\u001b[0m\u001b[0;34m\u001b[0m\u001b[0m\n\u001b[0m\u001b[1;32m   1393\u001b[0m \u001b[0;34m\u001b[0m\u001b[0m\n\u001b[1;32m   1394\u001b[0m \u001b[0;34m\u001b[0m\u001b[0m\n",
            "\u001b[0;32m/usr/local/lib/python3.7/dist-packages/sklearn/model_selection/_search.py\u001b[0m in \u001b[0;36mevaluate_candidates\u001b[0;34m(candidate_params, cv, more_results)\u001b[0m\n\u001b[1;32m    849\u001b[0m                     )\n\u001b[1;32m    850\u001b[0m                     for (cand_idx, parameters), (split_idx, (train, test)) in product(\n\u001b[0;32m--> 851\u001b[0;31m                         \u001b[0menumerate\u001b[0m\u001b[0;34m(\u001b[0m\u001b[0mcandidate_params\u001b[0m\u001b[0;34m)\u001b[0m\u001b[0;34m,\u001b[0m \u001b[0menumerate\u001b[0m\u001b[0;34m(\u001b[0m\u001b[0mcv\u001b[0m\u001b[0;34m.\u001b[0m\u001b[0msplit\u001b[0m\u001b[0;34m(\u001b[0m\u001b[0mX\u001b[0m\u001b[0;34m,\u001b[0m \u001b[0my\u001b[0m\u001b[0;34m,\u001b[0m \u001b[0mgroups\u001b[0m\u001b[0;34m)\u001b[0m\u001b[0;34m)\u001b[0m\u001b[0;34m\u001b[0m\u001b[0;34m\u001b[0m\u001b[0m\n\u001b[0m\u001b[1;32m    852\u001b[0m                     )\n\u001b[1;32m    853\u001b[0m                 )\n",
            "\u001b[0;32m/usr/local/lib/python3.7/dist-packages/joblib/parallel.py\u001b[0m in \u001b[0;36m__call__\u001b[0;34m(self, iterable)\u001b[0m\n\u001b[1;32m   1054\u001b[0m \u001b[0;34m\u001b[0m\u001b[0m\n\u001b[1;32m   1055\u001b[0m             \u001b[0;32mwith\u001b[0m \u001b[0mself\u001b[0m\u001b[0;34m.\u001b[0m\u001b[0m_backend\u001b[0m\u001b[0;34m.\u001b[0m\u001b[0mretrieval_context\u001b[0m\u001b[0;34m(\u001b[0m\u001b[0;34m)\u001b[0m\u001b[0;34m:\u001b[0m\u001b[0;34m\u001b[0m\u001b[0;34m\u001b[0m\u001b[0m\n\u001b[0;32m-> 1056\u001b[0;31m                 \u001b[0mself\u001b[0m\u001b[0;34m.\u001b[0m\u001b[0mretrieve\u001b[0m\u001b[0;34m(\u001b[0m\u001b[0;34m)\u001b[0m\u001b[0;34m\u001b[0m\u001b[0;34m\u001b[0m\u001b[0m\n\u001b[0m\u001b[1;32m   1057\u001b[0m             \u001b[0;31m# Make sure that we get a last message telling us we are done\u001b[0m\u001b[0;34m\u001b[0m\u001b[0;34m\u001b[0m\u001b[0;34m\u001b[0m\u001b[0m\n\u001b[1;32m   1058\u001b[0m             \u001b[0melapsed_time\u001b[0m \u001b[0;34m=\u001b[0m \u001b[0mtime\u001b[0m\u001b[0;34m.\u001b[0m\u001b[0mtime\u001b[0m\u001b[0;34m(\u001b[0m\u001b[0;34m)\u001b[0m \u001b[0;34m-\u001b[0m \u001b[0mself\u001b[0m\u001b[0;34m.\u001b[0m\u001b[0m_start_time\u001b[0m\u001b[0;34m\u001b[0m\u001b[0;34m\u001b[0m\u001b[0m\n",
            "\u001b[0;32m/usr/local/lib/python3.7/dist-packages/joblib/parallel.py\u001b[0m in \u001b[0;36mretrieve\u001b[0;34m(self)\u001b[0m\n\u001b[1;32m    933\u001b[0m             \u001b[0;32mtry\u001b[0m\u001b[0;34m:\u001b[0m\u001b[0;34m\u001b[0m\u001b[0;34m\u001b[0m\u001b[0m\n\u001b[1;32m    934\u001b[0m                 \u001b[0;32mif\u001b[0m \u001b[0mgetattr\u001b[0m\u001b[0;34m(\u001b[0m\u001b[0mself\u001b[0m\u001b[0;34m.\u001b[0m\u001b[0m_backend\u001b[0m\u001b[0;34m,\u001b[0m \u001b[0;34m'supports_timeout'\u001b[0m\u001b[0;34m,\u001b[0m \u001b[0;32mFalse\u001b[0m\u001b[0;34m)\u001b[0m\u001b[0;34m:\u001b[0m\u001b[0;34m\u001b[0m\u001b[0;34m\u001b[0m\u001b[0m\n\u001b[0;32m--> 935\u001b[0;31m                     \u001b[0mself\u001b[0m\u001b[0;34m.\u001b[0m\u001b[0m_output\u001b[0m\u001b[0;34m.\u001b[0m\u001b[0mextend\u001b[0m\u001b[0;34m(\u001b[0m\u001b[0mjob\u001b[0m\u001b[0;34m.\u001b[0m\u001b[0mget\u001b[0m\u001b[0;34m(\u001b[0m\u001b[0mtimeout\u001b[0m\u001b[0;34m=\u001b[0m\u001b[0mself\u001b[0m\u001b[0;34m.\u001b[0m\u001b[0mtimeout\u001b[0m\u001b[0;34m)\u001b[0m\u001b[0;34m)\u001b[0m\u001b[0;34m\u001b[0m\u001b[0;34m\u001b[0m\u001b[0m\n\u001b[0m\u001b[1;32m    936\u001b[0m                 \u001b[0;32melse\u001b[0m\u001b[0;34m:\u001b[0m\u001b[0;34m\u001b[0m\u001b[0;34m\u001b[0m\u001b[0m\n\u001b[1;32m    937\u001b[0m                     \u001b[0mself\u001b[0m\u001b[0;34m.\u001b[0m\u001b[0m_output\u001b[0m\u001b[0;34m.\u001b[0m\u001b[0mextend\u001b[0m\u001b[0;34m(\u001b[0m\u001b[0mjob\u001b[0m\u001b[0;34m.\u001b[0m\u001b[0mget\u001b[0m\u001b[0;34m(\u001b[0m\u001b[0;34m)\u001b[0m\u001b[0;34m)\u001b[0m\u001b[0;34m\u001b[0m\u001b[0;34m\u001b[0m\u001b[0m\n",
            "\u001b[0;32m/usr/local/lib/python3.7/dist-packages/joblib/_parallel_backends.py\u001b[0m in \u001b[0;36mwrap_future_result\u001b[0;34m(future, timeout)\u001b[0m\n\u001b[1;32m    540\u001b[0m         AsyncResults.get from multiprocessing.\"\"\"\n\u001b[1;32m    541\u001b[0m         \u001b[0;32mtry\u001b[0m\u001b[0;34m:\u001b[0m\u001b[0;34m\u001b[0m\u001b[0;34m\u001b[0m\u001b[0m\n\u001b[0;32m--> 542\u001b[0;31m             \u001b[0;32mreturn\u001b[0m \u001b[0mfuture\u001b[0m\u001b[0;34m.\u001b[0m\u001b[0mresult\u001b[0m\u001b[0;34m(\u001b[0m\u001b[0mtimeout\u001b[0m\u001b[0;34m=\u001b[0m\u001b[0mtimeout\u001b[0m\u001b[0;34m)\u001b[0m\u001b[0;34m\u001b[0m\u001b[0;34m\u001b[0m\u001b[0m\n\u001b[0m\u001b[1;32m    543\u001b[0m         \u001b[0;32mexcept\u001b[0m \u001b[0mCfTimeoutError\u001b[0m \u001b[0;32mas\u001b[0m \u001b[0me\u001b[0m\u001b[0;34m:\u001b[0m\u001b[0;34m\u001b[0m\u001b[0;34m\u001b[0m\u001b[0m\n\u001b[1;32m    544\u001b[0m             \u001b[0;32mraise\u001b[0m \u001b[0mTimeoutError\u001b[0m \u001b[0;32mfrom\u001b[0m \u001b[0me\u001b[0m\u001b[0;34m\u001b[0m\u001b[0;34m\u001b[0m\u001b[0m\n",
            "\u001b[0;32m/usr/lib/python3.7/concurrent/futures/_base.py\u001b[0m in \u001b[0;36mresult\u001b[0;34m(self, timeout)\u001b[0m\n\u001b[1;32m    428\u001b[0m                 \u001b[0;32mreturn\u001b[0m \u001b[0mself\u001b[0m\u001b[0;34m.\u001b[0m\u001b[0m__get_result\u001b[0m\u001b[0;34m(\u001b[0m\u001b[0;34m)\u001b[0m\u001b[0;34m\u001b[0m\u001b[0;34m\u001b[0m\u001b[0m\n\u001b[1;32m    429\u001b[0m \u001b[0;34m\u001b[0m\u001b[0m\n\u001b[0;32m--> 430\u001b[0;31m             \u001b[0mself\u001b[0m\u001b[0;34m.\u001b[0m\u001b[0m_condition\u001b[0m\u001b[0;34m.\u001b[0m\u001b[0mwait\u001b[0m\u001b[0;34m(\u001b[0m\u001b[0mtimeout\u001b[0m\u001b[0;34m)\u001b[0m\u001b[0;34m\u001b[0m\u001b[0;34m\u001b[0m\u001b[0m\n\u001b[0m\u001b[1;32m    431\u001b[0m \u001b[0;34m\u001b[0m\u001b[0m\n\u001b[1;32m    432\u001b[0m             \u001b[0;32mif\u001b[0m \u001b[0mself\u001b[0m\u001b[0;34m.\u001b[0m\u001b[0m_state\u001b[0m \u001b[0;32min\u001b[0m \u001b[0;34m[\u001b[0m\u001b[0mCANCELLED\u001b[0m\u001b[0;34m,\u001b[0m \u001b[0mCANCELLED_AND_NOTIFIED\u001b[0m\u001b[0;34m]\u001b[0m\u001b[0;34m:\u001b[0m\u001b[0;34m\u001b[0m\u001b[0;34m\u001b[0m\u001b[0m\n",
            "\u001b[0;32m/usr/lib/python3.7/threading.py\u001b[0m in \u001b[0;36mwait\u001b[0;34m(self, timeout)\u001b[0m\n\u001b[1;32m    294\u001b[0m         \u001b[0;32mtry\u001b[0m\u001b[0;34m:\u001b[0m    \u001b[0;31m# restore state no matter what (e.g., KeyboardInterrupt)\u001b[0m\u001b[0;34m\u001b[0m\u001b[0;34m\u001b[0m\u001b[0m\n\u001b[1;32m    295\u001b[0m             \u001b[0;32mif\u001b[0m \u001b[0mtimeout\u001b[0m \u001b[0;32mis\u001b[0m \u001b[0;32mNone\u001b[0m\u001b[0;34m:\u001b[0m\u001b[0;34m\u001b[0m\u001b[0;34m\u001b[0m\u001b[0m\n\u001b[0;32m--> 296\u001b[0;31m                 \u001b[0mwaiter\u001b[0m\u001b[0;34m.\u001b[0m\u001b[0macquire\u001b[0m\u001b[0;34m(\u001b[0m\u001b[0;34m)\u001b[0m\u001b[0;34m\u001b[0m\u001b[0;34m\u001b[0m\u001b[0m\n\u001b[0m\u001b[1;32m    297\u001b[0m                 \u001b[0mgotit\u001b[0m \u001b[0;34m=\u001b[0m \u001b[0;32mTrue\u001b[0m\u001b[0;34m\u001b[0m\u001b[0;34m\u001b[0m\u001b[0m\n\u001b[1;32m    298\u001b[0m             \u001b[0;32melse\u001b[0m\u001b[0;34m:\u001b[0m\u001b[0;34m\u001b[0m\u001b[0;34m\u001b[0m\u001b[0m\n",
            "\u001b[0;31mKeyboardInterrupt\u001b[0m: "
          ]
        }
      ]
    }
  ]
}