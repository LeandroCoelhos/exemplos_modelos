{
  "cells": [
    {
      "cell_type": "markdown",
      "metadata": {
        "id": "view-in-github",
        "colab_type": "text"
      },
      "source": [
        "<a href=\"https://colab.research.google.com/github/LeandroCoelhos/exemplos_modelos/blob/main/7_MVP.ipynb\" target=\"_parent\"><img src=\"https://colab.research.google.com/assets/colab-badge.svg\" alt=\"Open In Colab\"/></a>"
      ]
    },
    {
      "cell_type": "code",
      "execution_count": null,
      "metadata": {
        "id": "0Qr4ZOTnILGa"
      },
      "outputs": [],
      "source": [
        "import pandas as pd\n",
        "import numpy as np\n",
        "import matplotlib.pyplot as plt\n",
        "import seaborn as sns\n",
        "\n",
        "from sklearn.model_selection import cross_validate, RepeatedKFold \n",
        "from sklearn import metrics\n",
        "from sklearn.model_selection import train_test_split\n",
        "from sklearn.metrics import confusion_matrix\n",
        "\n",
        "from sklearn.model_selection import GridSearchCV"
      ]
    },
    {
      "cell_type": "code",
      "execution_count": null,
      "metadata": {
        "id": "NPzag6B1IOEb"
      },
      "outputs": [],
      "source": [
        "url1 = 'https://raw.githubusercontent.com/LeandroCoelhos/salario_funcionario/main/data/treino.csv'\n",
        "url2 = 'https://raw.githubusercontent.com/LeandroCoelhos/salario_funcionario/main/data/teste.csv'\n",
        "\n",
        "treino = pd.read_csv(url1)\n",
        "teste = pd.read_csv(url2)"
      ]
    },
    {
      "cell_type": "code",
      "execution_count": null,
      "metadata": {
        "colab": {
          "base_uri": "https://localhost:8080/",
          "height": 300
        },
        "id": "uMe20_aBIfFt",
        "outputId": "a0f1c570-feac-481c-d63d-38bb6ab24bef"
      },
      "outputs": [
        {
          "data": {
            "text/html": [
              "<div>\n",
              "<style scoped>\n",
              "    .dataframe tbody tr th:only-of-type {\n",
              "        vertical-align: middle;\n",
              "    }\n",
              "\n",
              "    .dataframe tbody tr th {\n",
              "        vertical-align: top;\n",
              "    }\n",
              "\n",
              "    .dataframe thead th {\n",
              "        text-align: right;\n",
              "    }\n",
              "</style>\n",
              "<table border=\"1\" class=\"dataframe\">\n",
              "  <thead>\n",
              "    <tr style=\"text-align: right;\">\n",
              "      <th></th>\n",
              "      <th>sexo</th>\n",
              "      <th>idade</th>\n",
              "      <th>faixa_etaria</th>\n",
              "      <th>cor_raca</th>\n",
              "      <th>escolaridade</th>\n",
              "      <th>horas_trabalho_por_semana</th>\n",
              "      <th>portador_de_deficiencia</th>\n",
              "      <th>tamanho_da_empresa</th>\n",
              "      <th>tempo_no_emprego</th>\n",
              "      <th>remuneracao</th>\n",
              "      <th>id</th>\n",
              "    </tr>\n",
              "  </thead>\n",
              "  <tbody>\n",
              "    <tr>\n",
              "      <th>count</th>\n",
              "      <td>15000.000000</td>\n",
              "      <td>15000.00000</td>\n",
              "      <td>15000.000000</td>\n",
              "      <td>15000.000000</td>\n",
              "      <td>15000.000000</td>\n",
              "      <td>15000.000000</td>\n",
              "      <td>15000.000000</td>\n",
              "      <td>15000.000000</td>\n",
              "      <td>15000.000000</td>\n",
              "      <td>15000.000000</td>\n",
              "      <td>1.500000e+04</td>\n",
              "    </tr>\n",
              "    <tr>\n",
              "      <th>mean</th>\n",
              "      <td>1.418467</td>\n",
              "      <td>38.47240</td>\n",
              "      <td>5.268467</td>\n",
              "      <td>37.277533</td>\n",
              "      <td>7.066533</td>\n",
              "      <td>39.171600</td>\n",
              "      <td>0.007867</td>\n",
              "      <td>7.102800</td>\n",
              "      <td>83.200600</td>\n",
              "      <td>3048.329903</td>\n",
              "      <td>1.230351e+06</td>\n",
              "    </tr>\n",
              "    <tr>\n",
              "      <th>std</th>\n",
              "      <td>0.493324</td>\n",
              "      <td>11.59629</td>\n",
              "      <td>1.268003</td>\n",
              "      <td>43.163674</td>\n",
              "      <td>1.619593</td>\n",
              "      <td>7.780124</td>\n",
              "      <td>0.088348</td>\n",
              "      <td>2.709721</td>\n",
              "      <td>100.756705</td>\n",
              "      <td>3783.080296</td>\n",
              "      <td>7.081270e+05</td>\n",
              "    </tr>\n",
              "    <tr>\n",
              "      <th>min</th>\n",
              "      <td>1.000000</td>\n",
              "      <td>14.00000</td>\n",
              "      <td>1.000000</td>\n",
              "      <td>1.000000</td>\n",
              "      <td>1.000000</td>\n",
              "      <td>0.000000</td>\n",
              "      <td>0.000000</td>\n",
              "      <td>2.000000</td>\n",
              "      <td>0.000000</td>\n",
              "      <td>301.430000</td>\n",
              "      <td>2.200000e+01</td>\n",
              "    </tr>\n",
              "    <tr>\n",
              "      <th>25%</th>\n",
              "      <td>1.000000</td>\n",
              "      <td>29.00000</td>\n",
              "      <td>4.000000</td>\n",
              "      <td>8.000000</td>\n",
              "      <td>7.000000</td>\n",
              "      <td>37.000000</td>\n",
              "      <td>0.000000</td>\n",
              "      <td>5.000000</td>\n",
              "      <td>12.700000</td>\n",
              "      <td>1274.707500</td>\n",
              "      <td>6.237862e+05</td>\n",
              "    </tr>\n",
              "    <tr>\n",
              "      <th>50%</th>\n",
              "      <td>1.000000</td>\n",
              "      <td>37.00000</td>\n",
              "      <td>5.000000</td>\n",
              "      <td>8.000000</td>\n",
              "      <td>7.000000</td>\n",
              "      <td>44.000000</td>\n",
              "      <td>0.000000</td>\n",
              "      <td>8.000000</td>\n",
              "      <td>40.700000</td>\n",
              "      <td>1764.360000</td>\n",
              "      <td>1.238586e+06</td>\n",
              "    </tr>\n",
              "    <tr>\n",
              "      <th>75%</th>\n",
              "      <td>2.000000</td>\n",
              "      <td>46.00000</td>\n",
              "      <td>6.000000</td>\n",
              "      <td>99.000000</td>\n",
              "      <td>8.000000</td>\n",
              "      <td>44.000000</td>\n",
              "      <td>0.000000</td>\n",
              "      <td>10.000000</td>\n",
              "      <td>118.900000</td>\n",
              "      <td>3213.360000</td>\n",
              "      <td>1.841327e+06</td>\n",
              "    </tr>\n",
              "    <tr>\n",
              "      <th>max</th>\n",
              "      <td>2.000000</td>\n",
              "      <td>84.00000</td>\n",
              "      <td>8.000000</td>\n",
              "      <td>99.000000</td>\n",
              "      <td>11.000000</td>\n",
              "      <td>44.000000</td>\n",
              "      <td>1.000000</td>\n",
              "      <td>10.000000</td>\n",
              "      <td>596.500000</td>\n",
              "      <td>63218.070000</td>\n",
              "      <td>2.459844e+06</td>\n",
              "    </tr>\n",
              "  </tbody>\n",
              "</table>\n",
              "</div>"
            ],
            "text/plain": [
              "               sexo        idade  faixa_etaria      cor_raca  escolaridade  \\\n",
              "count  15000.000000  15000.00000  15000.000000  15000.000000  15000.000000   \n",
              "mean       1.418467     38.47240      5.268467     37.277533      7.066533   \n",
              "std        0.493324     11.59629      1.268003     43.163674      1.619593   \n",
              "min        1.000000     14.00000      1.000000      1.000000      1.000000   \n",
              "25%        1.000000     29.00000      4.000000      8.000000      7.000000   \n",
              "50%        1.000000     37.00000      5.000000      8.000000      7.000000   \n",
              "75%        2.000000     46.00000      6.000000     99.000000      8.000000   \n",
              "max        2.000000     84.00000      8.000000     99.000000     11.000000   \n",
              "\n",
              "       horas_trabalho_por_semana  portador_de_deficiencia  tamanho_da_empresa  \\\n",
              "count               15000.000000             15000.000000        15000.000000   \n",
              "mean                   39.171600                 0.007867            7.102800   \n",
              "std                     7.780124                 0.088348            2.709721   \n",
              "min                     0.000000                 0.000000            2.000000   \n",
              "25%                    37.000000                 0.000000            5.000000   \n",
              "50%                    44.000000                 0.000000            8.000000   \n",
              "75%                    44.000000                 0.000000           10.000000   \n",
              "max                    44.000000                 1.000000           10.000000   \n",
              "\n",
              "       tempo_no_emprego   remuneracao            id  \n",
              "count      15000.000000  15000.000000  1.500000e+04  \n",
              "mean          83.200600   3048.329903  1.230351e+06  \n",
              "std          100.756705   3783.080296  7.081270e+05  \n",
              "min            0.000000    301.430000  2.200000e+01  \n",
              "25%           12.700000   1274.707500  6.237862e+05  \n",
              "50%           40.700000   1764.360000  1.238586e+06  \n",
              "75%          118.900000   3213.360000  1.841327e+06  \n",
              "max          596.500000  63218.070000  2.459844e+06  "
            ]
          },
          "execution_count": 306,
          "metadata": {},
          "output_type": "execute_result"
        }
      ],
      "source": [
        "treino.describe()"
      ]
    },
    {
      "cell_type": "code",
      "execution_count": null,
      "metadata": {
        "colab": {
          "base_uri": "https://localhost:8080/",
          "height": 631
        },
        "id": "YijpSd0KKPYv",
        "outputId": "31e90956-b107-4c68-aacc-4ee215ac585b"
      },
      "outputs": [
        {
          "data": {
            "text/plain": [
              "<AxesSubplot:>"
            ]
          },
          "execution_count": 307,
          "metadata": {},
          "output_type": "execute_result"
        },
        {
          "data": {
            "image/png": "[encoded data removed]",
            "text/plain": [
              "<Figure size 1080x576 with 1 Axes>"
            ]
          },
          "metadata": {
            "needs_background": "light"
          },
          "output_type": "display_data"
        }
      ],
      "source": [
        "plt.figure(figsize=(15,8))\n",
        "treino.corr()['remuneracao'].sort_values(ascending = False).plot(kind='bar')"
      ]
    },
    {
      "cell_type": "code",
      "execution_count": null,
      "metadata": {
        "colab": {
          "base_uri": "https://localhost:8080/",
          "height": 1000
        },
        "id": "k50Eual8MiFk",
        "outputId": "3ab41a9d-af48-418d-850d-f9fc220d693d"
      },
      "outputs": [
        {
          "data": {
            "image/png": "[encoded data removed]",
            "text/plain": [
              "<Figure size 432x288 with 1 Axes>"
            ]
          },
          "metadata": {
            "needs_background": "light"
          },
          "output_type": "display_data"
        },
        {
          "data": {
            "image/png": "[encoded data removed]",
            "text/plain": [
              "<Figure size 432x288 with 1 Axes>"
            ]
          },
          "metadata": {
            "needs_background": "light"
          },
          "output_type": "display_data"
        },
        {
          "data": {
            "image/png": "[encoded data removed]",
            "text/plain": [
              "<Figure size 432x288 with 1 Axes>"
            ]
          },
          "metadata": {
            "needs_background": "light"
          },
          "output_type": "display_data"
        },
        {
          "data": {
            "image/png": "[encoded data removed]",
            "text/plain": [
              "<Figure size 432x288 with 1 Axes>"
            ]
          },
          "metadata": {
            "needs_background": "light"
          },
          "output_type": "display_data"
        },
        {
          "data": {
            "image/png": "[encoded data removed]",
            "text/plain": [
              "<Figure size 432x288 with 1 Axes>"
            ]
          },
          "metadata": {
            "needs_background": "light"
          },
          "output_type": "display_data"
        },
        {
          "data": {
            "image/png": "[encoded data removed]",
            "text/plain": [
              "<Figure size 432x288 with 1 Axes>"
            ]
          },
          "metadata": {
            "needs_background": "light"
          },
          "output_type": "display_data"
        },
        {
          "data": {
            "image/png": "[encoded data removed]",
            "text/plain": [
              "<Figure size 432x288 with 1 Axes>"
            ]
          },
          "metadata": {
            "needs_background": "light"
          },
          "output_type": "display_data"
        },
        {
          "data": {
            "image/png": "[encoded data removed]",
            "text/plain": [
              "<Figure size 432x288 with 1 Axes>"
            ]
          },
          "metadata": {
            "needs_background": "light"
          },
          "output_type": "display_data"
        },
        {
          "data": {
            "image/png": "[encoded data removed]",
            "text/plain": [
              "<Figure size 432x288 with 1 Axes>"
            ]
          },
          "metadata": {
            "needs_background": "light"
          },
          "output_type": "display_data"
        },
        {
          "data": {
            "image/png": "[encoded data removed]",
            "text/plain": [
              "<Figure size 432x288 with 1 Axes>"
            ]
          },
          "metadata": {
            "needs_background": "light"
          },
          "output_type": "display_data"
        },
        {
          "data": {
            "image/png": "[encoded data removed]",
            "text/plain": [
              "<Figure size 432x288 with 1 Axes>"
            ]
          },
          "metadata": {
            "needs_background": "light"
          },
          "output_type": "display_data"
        }
      ],
      "source": [
        "for i in treino.corr().columns:\n",
        "    sns.boxplot(x = treino[i])\n",
        "    plt.show()"
      ]
    },
    {
      "cell_type": "code",
      "execution_count": null,
      "metadata": {
        "id": "HvHb6vVZIogU"
      },
      "outputs": [],
      "source": [
        "treino = treino.drop(['faixa_etaria','id'], axis=1) \n",
        "teste = teste.drop(['faixa_etaria', 'id'], axis=1) "
      ]
    },
    {
      "cell_type": "code",
      "execution_count": null,
      "metadata": {
        "id": "NyUtQy8sipBW",
        "outputId": "81f386cb-8a07-46ba-f758-280ac6f048c6"
      },
      "outputs": [
        {
          "data": {
            "text/plain": [
              "(12856, 9)"
            ]
          },
          "execution_count": 310,
          "metadata": {},
          "output_type": "execute_result"
        }
      ],
      "source": [
        "treino = treino[(treino.remuneracao < 6000) & (treino.tempo_no_emprego <= 280)]\n",
        "treino.shape"
      ]
    },
    {
      "cell_type": "code",
      "execution_count": null,
      "metadata": {
        "id": "w5OoEOocJ6jm"
      },
      "outputs": [],
      "source": [
        "treino['sexo'] = treino['sexo'].map({2: 0, 1:1})\n",
        "teste['sexo'] = teste['sexo'].map({2: 0, 1:1})\n",
        "\n",
        "treino['cor_raca'] = treino['cor_raca'].map({99: 1, 1:0, 2:0, 4:0, 6:0, 8:0, 9:0})#ok\n",
        "teste['cor_raca'] = teste['cor_raca'].map({99: 1, 1:0, 2:0, 4:0, 6:0, 8:0, 9:0})#ok\n",
        "\n",
        "treino['tamanho_da_empresa'] = treino['tamanho_da_empresa'].map({2:0, 3:0, 4:3, 5:3, 6:3, 7:5, 8:5, 9:5, 10:10})#ok\n",
        "teste['tamanho_da_empresa'] = teste['tamanho_da_empresa'].map({2:0, 3:0, 4:3, 5:3, 6:3, 7:5, 8:5, 9:5, 10:10})#ok\n",
        "\n",
        "\n",
        "treino['escolaridade'] = treino['escolaridade'].map({1:0, 2:0 ,3:0, 4:0, 5:0, 6:0, 7:7, 8:8, 9:10, 10:10 , 11:9})\n",
        "teste['escolaridade'] = teste['escolaridade'].map({1:0, 2:0 ,3:0, 4:0, 5:0, 6:0, 7:7, 8:8, 9:10, 10:10 , 11:9})\n"
      ]
    },
    {
      "cell_type": "code",
      "execution_count": null,
      "metadata": {
        "id": "rYohUGOxL3Vb"
      },
      "outputs": [],
      "source": [
        "def remunera(x):\n",
        "  if (x > 6000):\n",
        "    return 6000\n",
        "  else:\n",
        "    return x\n",
        "\n",
        "def emprego(x):\n",
        "  if (x > 300):\n",
        "    return 300\n",
        "  else:\n",
        "    return x\n",
        "\n",
        "def empre(x):\n",
        "  if (x < 12):\n",
        "    return 0\n",
        "  elif (x >= 12) and (x < 24):\n",
        "    return 1\n",
        "  elif (x >= 24) and (x < 36):\n",
        "    return 2\n",
        "  elif (x >= 36) and (x < 48):\n",
        "    return 3\n",
        "  elif (x >= 48) and (x < 60):\n",
        "    return 4\n",
        "  elif (x >= 60) and (x < 120):\n",
        "    return 5\n",
        "  elif (x >= 120) and (x < 300):\n",
        "    return 6\n",
        "  else:\n",
        "    return 7\n",
        "\n",
        "#treino['remuneracao'] = treino['remuneracao'].apply(remunera)\n",
        "#treino['tempo_no_emprego'] = treino['tempo_no_emprego'].apply(emprego)"
      ]
    },
    {
      "cell_type": "code",
      "execution_count": null,
      "metadata": {
        "id": "mczPCuNhI0z4"
      },
      "outputs": [],
      "source": [
        "treino['idade'] = treino['idade']/84\n",
        "teste['idade'] = teste['idade']/84\n",
        "\n",
        "treino['horas_trabalho_por_semana'] = treino['horas_trabalho_por_semana']/44\n",
        "teste['horas_trabalho_por_semana'] = teste['horas_trabalho_por_semana']/44\n",
        "\n",
        "treino['tempo_no_emprego'] = treino['tempo_no_emprego']/600\n",
        "teste['tempo_no_emprego'] = teste['tempo_no_emprego']/600\n",
        "\n",
        "treino['tamanho_da_empresa'] = treino['tamanho_da_empresa']/10#ok\n",
        "teste['tamanho_da_empresa'] = teste['tamanho_da_empresa']/10\n",
        "\n",
        "#treino['escolaridade'] = treino['escolaridade']/3\n",
        "#teste['escolaridade'] = teste['escolaridade']/3\n",
        "\n",
        "#treino['id'] = treino['id']/2.459844e+06\n"
      ]
    },
    {
      "cell_type": "code",
      "execution_count": null,
      "metadata": {
        "id": "NHm-r8_gJgM3"
      },
      "outputs": [],
      "source": [
        "# realiza da dummificação das variáveis\n",
        "treino = pd.get_dummies(treino, columns = ['escolaridade'], dtype=int)\n",
        "teste = pd.get_dummies(teste, columns = ['escolaridade'], dtype=int)"
      ]
    },
    {
      "cell_type": "code",
      "execution_count": null,
      "metadata": {
        "colab": {
          "base_uri": "https://localhost:8080/",
          "height": 270
        },
        "id": "rFUOZ7qUJun-",
        "outputId": "6d9650bf-6f99-481c-83ab-919383235cb4"
      },
      "outputs": [
        {
          "data": {
            "text/html": [
              "<div>\n",
              "<style scoped>\n",
              "    .dataframe tbody tr th:only-of-type {\n",
              "        vertical-align: middle;\n",
              "    }\n",
              "\n",
              "    .dataframe tbody tr th {\n",
              "        vertical-align: top;\n",
              "    }\n",
              "\n",
              "    .dataframe thead th {\n",
              "        text-align: right;\n",
              "    }\n",
              "</style>\n",
              "<table border=\"1\" class=\"dataframe\">\n",
              "  <thead>\n",
              "    <tr style=\"text-align: right;\">\n",
              "      <th></th>\n",
              "      <th>sexo</th>\n",
              "      <th>idade</th>\n",
              "      <th>cor_raca</th>\n",
              "      <th>horas_trabalho_por_semana</th>\n",
              "      <th>portador_de_deficiencia</th>\n",
              "      <th>tamanho_da_empresa</th>\n",
              "      <th>tempo_no_emprego</th>\n",
              "      <th>remuneracao</th>\n",
              "      <th>escolaridade_0</th>\n",
              "      <th>escolaridade_7</th>\n",
              "      <th>escolaridade_8</th>\n",
              "      <th>escolaridade_9</th>\n",
              "      <th>escolaridade_10</th>\n",
              "    </tr>\n",
              "  </thead>\n",
              "  <tbody>\n",
              "    <tr>\n",
              "      <th>0</th>\n",
              "      <td>1</td>\n",
              "      <td>0.369048</td>\n",
              "      <td>0</td>\n",
              "      <td>1.000000</td>\n",
              "      <td>0</td>\n",
              "      <td>1.0</td>\n",
              "      <td>0.006333</td>\n",
              "      <td>2551.21</td>\n",
              "      <td>0</td>\n",
              "      <td>1</td>\n",
              "      <td>0</td>\n",
              "      <td>0</td>\n",
              "      <td>0</td>\n",
              "    </tr>\n",
              "    <tr>\n",
              "      <th>1</th>\n",
              "      <td>1</td>\n",
              "      <td>0.690476</td>\n",
              "      <td>0</td>\n",
              "      <td>1.000000</td>\n",
              "      <td>0</td>\n",
              "      <td>0.0</td>\n",
              "      <td>0.003167</td>\n",
              "      <td>3248.53</td>\n",
              "      <td>0</td>\n",
              "      <td>1</td>\n",
              "      <td>0</td>\n",
              "      <td>0</td>\n",
              "      <td>0</td>\n",
              "    </tr>\n",
              "    <tr>\n",
              "      <th>2</th>\n",
              "      <td>0</td>\n",
              "      <td>0.690476</td>\n",
              "      <td>1</td>\n",
              "      <td>0.681818</td>\n",
              "      <td>0</td>\n",
              "      <td>0.5</td>\n",
              "      <td>0.426500</td>\n",
              "      <td>1662.69</td>\n",
              "      <td>0</td>\n",
              "      <td>1</td>\n",
              "      <td>0</td>\n",
              "      <td>0</td>\n",
              "      <td>0</td>\n",
              "    </tr>\n",
              "    <tr>\n",
              "      <th>3</th>\n",
              "      <td>1</td>\n",
              "      <td>0.345238</td>\n",
              "      <td>0</td>\n",
              "      <td>1.000000</td>\n",
              "      <td>0</td>\n",
              "      <td>0.5</td>\n",
              "      <td>0.000667</td>\n",
              "      <td>918.82</td>\n",
              "      <td>0</td>\n",
              "      <td>1</td>\n",
              "      <td>0</td>\n",
              "      <td>0</td>\n",
              "      <td>0</td>\n",
              "    </tr>\n",
              "    <tr>\n",
              "      <th>5</th>\n",
              "      <td>1</td>\n",
              "      <td>0.309524</td>\n",
              "      <td>0</td>\n",
              "      <td>1.000000</td>\n",
              "      <td>0</td>\n",
              "      <td>0.3</td>\n",
              "      <td>0.024000</td>\n",
              "      <td>1900.88</td>\n",
              "      <td>0</td>\n",
              "      <td>1</td>\n",
              "      <td>0</td>\n",
              "      <td>0</td>\n",
              "      <td>0</td>\n",
              "    </tr>\n",
              "  </tbody>\n",
              "</table>\n",
              "</div>"
            ],
            "text/plain": [
              "   sexo     idade  cor_raca  horas_trabalho_por_semana  \\\n",
              "0     1  0.369048         0                   1.000000   \n",
              "1     1  0.690476         0                   1.000000   \n",
              "2     0  0.690476         1                   0.681818   \n",
              "3     1  0.345238         0                   1.000000   \n",
              "5     1  0.309524         0                   1.000000   \n",
              "\n",
              "   portador_de_deficiencia  tamanho_da_empresa  tempo_no_emprego  remuneracao  \\\n",
              "0                        0                 1.0          0.006333      2551.21   \n",
              "1                        0                 0.0          0.003167      3248.53   \n",
              "2                        0                 0.5          0.426500      1662.69   \n",
              "3                        0                 0.5          0.000667       918.82   \n",
              "5                        0                 0.3          0.024000      1900.88   \n",
              "\n",
              "   escolaridade_0  escolaridade_7  escolaridade_8  escolaridade_9  \\\n",
              "0               0               1               0               0   \n",
              "1               0               1               0               0   \n",
              "2               0               1               0               0   \n",
              "3               0               1               0               0   \n",
              "5               0               1               0               0   \n",
              "\n",
              "   escolaridade_10  \n",
              "0                0  \n",
              "1                0  \n",
              "2                0  \n",
              "3                0  \n",
              "5                0  "
            ]
          },
          "execution_count": 315,
          "metadata": {},
          "output_type": "execute_result"
        }
      ],
      "source": [
        "treino.head()"
      ]
    },
    {
      "cell_type": "code",
      "execution_count": null,
      "metadata": {
        "id": "WO1m_74JJy9D"
      },
      "outputs": [],
      "source": [
        ""
      ]
    },
    {
      "cell_type": "code",
      "execution_count": null,
      "metadata": {
        "colab": {
          "base_uri": "https://localhost:8080/"
        },
        "id": "vb1dxsxJOAyS",
        "outputId": "9fc3bf38-504c-4cbc-c77e-2b15dd0621a7"
      },
      "outputs": [
        {
          "name": "stdout",
          "output_type": "stream",
          "text": [
            "(12856, 12)\n"
          ]
        }
      ],
      "source": [
        "#Separando em treino e Teste\n",
        "xtreino = treino.drop(['remuneracao'], axis=1)#\n",
        "ytreino = treino['remuneracao'].to_list()\n",
        "print(xtreino.shape)"
      ]
    },
    {
      "cell_type": "code",
      "execution_count": null,
      "metadata": {
        "id": "sTczkmG_ipBa",
        "outputId": "8c505be9-e4c5-42c4-ab4f-cf09d18b8a68"
      },
      "outputs": [
        {
          "data": {
            "text/plain": [
              "'from sklearn.model_selection import train_test_split\\nmedi = 0\\nfor i in range(10):\\n    X_train, X_test, y_train, y_test = train_test_split(xtreino, ytreino, test_size=0.25)\\n    modelo = GradientBoostingRegressor()\\n    modelo.fit(X_train, y_train)\\n\\n    pred = modelo.predict(X_test)\\n    mae = metrics.mean_absolute_error(y_test, pred)\\n    print(mae)\\n    med += mae\\nprint(med/10)'"
            ]
          },
          "execution_count": 317,
          "metadata": {},
          "output_type": "execute_result"
        }
      ],
      "source": [
        "'''from sklearn.model_selection import train_test_split\n",
        "medi = 0\n",
        "for i in range(10):\n",
        "    X_train, X_test, y_train, y_test = train_test_split(xtreino, ytreino, test_size=0.25)\n",
        "    modelo = GradientBoostingRegressor()\n",
        "    modelo.fit(X_train, y_train)\n",
        "\n",
        "    pred = modelo.predict(X_test)\n",
        "    mae = metrics.mean_absolute_error(y_test, pred)\n",
        "    print(mae)\n",
        "    med += mae\n",
        "print(med/10)'''"
      ]
    },
    {
      "cell_type": "code",
      "execution_count": null,
      "metadata": {
        "id": "dIqRPuN5ipBa"
      },
      "outputs": [],
      "source": [
        ""
      ]
    },
    {
      "cell_type": "code",
      "execution_count": null,
      "metadata": {
        "id": "EoF3LwsQipBb"
      },
      "outputs": [],
      "source": [
        ""
      ]
    },
    {
      "cell_type": "code",
      "execution_count": null,
      "metadata": {
        "id": "VoSCes1kMkBz"
      },
      "outputs": [],
      "source": [
        "from sklearn.linear_model import LinearRegression\n",
        "from sklearn.neighbors import KNeighborsRegressor\n",
        "from sklearn.tree import DecisionTreeRegressor\n",
        "from sklearn.svm import SVR\n",
        "from sklearn.ensemble import GradientBoostingRegressor\n",
        "from sklearn.ensemble import RandomForestRegressor\n",
        "from sklearn.ensemble import ExtraTreesRegressor\n",
        "from sklearn.neural_network import MLPRegressor\n",
        "\n",
        "from sklearn.metrics import mean_squared_error\n",
        "\n",
        "from sklearn.ensemble import VotingRegressor"
      ]
    },
    {
      "cell_type": "code",
      "execution_count": null,
      "metadata": {
        "id": "xiClSURNQEqy"
      },
      "outputs": [],
      "source": [
        "#Nomes dos classificadores considerados\n",
        "nome = [\n",
        "    'Regressão',\n",
        "    '5-Vizinhos Mais Próximos',\n",
        "    #'15-Vizinhos Mais Próximos',\n",
        "    #'Default-Vizinhos Mais Próximos',\n",
        "    #'Árvore de Decisão',\n",
        "    #'SVM RBF',\n",
        "    #'SVM Linear',\n",
        "    #'SVM Poly',\n",
        "    'Gradiente Boosting',\n",
        "    'Floresta Aleatoria',\n",
        "    #'ExtraTrees',\n",
        "    #'MLP'\n",
        "    ]\n",
        "\n",
        "#Classificadores considerados\n",
        "regressor = [\n",
        "    LinearRegression(),         \n",
        "    KNeighborsRegressor(n_neighbors = 25),\n",
        "    #KNeighborsRegressor(n_neighbors = 15),\n",
        "    #KNeighborsRegressor(),\n",
        "    #DecisionTreeRegressor(),\n",
        "    #SVR(kernel=\"rbf\", C=100, gamma=0.1, epsilon=0.1),\n",
        "    #SVR(kernel=\"linear\", C=100, gamma=\"auto\"),\n",
        "    #SVR(kernel=\"poly\", C=100, gamma=\"auto\", degree=3, epsilon=0.1, coef0=1),\n",
        "    GradientBoostingRegressor(),\n",
        "    RandomForestRegressor(),\n",
        "    #ExtraTreesRegressor(),\n",
        "    #MLPRegressor(),   \n",
        "\n",
        "    ]"
      ]
    },
    {
      "cell_type": "code",
      "execution_count": null,
      "metadata": {
        "id": "Jum-bkDDQLwI",
        "outputId": "a820ff13-abce-438e-8c01-89a499198b2a"
      },
      "outputs": [
        {
          "name": "stdout",
          "output_type": "stream",
          "text": [
            "Ajustando o modelo Regressão\n"
          ]
        },
        {
          "name": "stderr",
          "output_type": "stream",
          "text": [
            "[Parallel(n_jobs=-1)]: Using backend LokyBackend with 12 concurrent workers.\n",
            "[Parallel(n_jobs=-1)]: Done   1 tasks      | elapsed:    0.0s\n",
            "[Parallel(n_jobs=-1)]: Batch computation too fast (0.0313s.) Setting batch_size=2.\n",
            "[Parallel(n_jobs=-1)]: Done   8 tasks      | elapsed:    0.0s\n",
            "[Parallel(n_jobs=-1)]: Done  17 tasks      | elapsed:    0.0s\n",
            "[Parallel(n_jobs=-1)]: Batch computation too fast (0.1032s.) Setting batch_size=4.\n",
            "[Parallel(n_jobs=-1)]: Done  28 tasks      | elapsed:    0.1s\n",
            "[Parallel(n_jobs=-1)]: Done  50 tasks      | elapsed:    0.1s\n",
            "[Parallel(n_jobs=-1)]: Done  71 tasks      | elapsed:    0.2s\n",
            "[Parallel(n_jobs=-1)]: Done  88 out of 100 | elapsed:    0.2s remaining:    0.0s\n",
            "[Parallel(n_jobs=-1)]: Done 100 out of 100 | elapsed:    0.2s finished\n",
            "[Parallel(n_jobs=-1)]: Using backend LokyBackend with 12 concurrent workers.\n"
          ]
        },
        {
          "name": "stdout",
          "output_type": "stream",
          "text": [
            "Ajustando o modelo 5-Vizinhos Mais Próximos\n"
          ]
        },
        {
          "name": "stderr",
          "output_type": "stream",
          "text": [
            "[Parallel(n_jobs=-1)]: Done   1 tasks      | elapsed:    0.2s\n",
            "[Parallel(n_jobs=-1)]: Done   8 tasks      | elapsed:    0.3s\n",
            "[Parallel(n_jobs=-1)]: Done  17 tasks      | elapsed:    0.6s\n",
            "[Parallel(n_jobs=-1)]: Done  26 tasks      | elapsed:    0.8s\n",
            "[Parallel(n_jobs=-1)]: Done  37 tasks      | elapsed:    1.1s\n",
            "[Parallel(n_jobs=-1)]: Done  48 tasks      | elapsed:    1.4s\n",
            "[Parallel(n_jobs=-1)]: Done  61 tasks      | elapsed:    1.7s\n",
            "[Parallel(n_jobs=-1)]: Done  74 tasks      | elapsed:    2.1s\n",
            "[Parallel(n_jobs=-1)]: Done  88 out of 100 | elapsed:    2.4s remaining:    0.2s\n",
            "[Parallel(n_jobs=-1)]: Done 100 out of 100 | elapsed:    2.7s finished\n",
            "[Parallel(n_jobs=-1)]: Using backend LokyBackend with 12 concurrent workers.\n"
          ]
        },
        {
          "name": "stdout",
          "output_type": "stream",
          "text": [
            "Ajustando o modelo Gradiente Boosting\n"
          ]
        },
        {
          "name": "stderr",
          "output_type": "stream",
          "text": [
            "[Parallel(n_jobs=-1)]: Done   1 tasks      | elapsed:    0.7s\n",
            "[Parallel(n_jobs=-1)]: Done   8 tasks      | elapsed:    0.9s\n",
            "[Parallel(n_jobs=-1)]: Done  17 tasks      | elapsed:    1.7s\n",
            "[Parallel(n_jobs=-1)]: Done  26 tasks      | elapsed:    2.6s\n",
            "[Parallel(n_jobs=-1)]: Done  37 tasks      | elapsed:    3.4s\n",
            "[Parallel(n_jobs=-1)]: Done  48 tasks      | elapsed:    4.2s\n",
            "[Parallel(n_jobs=-1)]: Done  61 tasks      | elapsed:    5.4s\n",
            "[Parallel(n_jobs=-1)]: Done  74 tasks      | elapsed:    6.4s\n",
            "[Parallel(n_jobs=-1)]: Done  88 out of 100 | elapsed:    7.6s remaining:    0.9s\n",
            "[Parallel(n_jobs=-1)]: Done 100 out of 100 | elapsed:    8.3s finished\n",
            "[Parallel(n_jobs=-1)]: Using backend LokyBackend with 12 concurrent workers.\n"
          ]
        },
        {
          "name": "stdout",
          "output_type": "stream",
          "text": [
            "Ajustando o modelo Floresta Aleatoria\n"
          ]
        },
        {
          "name": "stderr",
          "output_type": "stream",
          "text": [
            "[Parallel(n_jobs=-1)]: Done   1 tasks      | elapsed:    2.6s\n",
            "[Parallel(n_jobs=-1)]: Done   8 tasks      | elapsed:    3.5s\n",
            "[Parallel(n_jobs=-1)]: Done  17 tasks      | elapsed:    6.8s\n",
            "[Parallel(n_jobs=-1)]: Done  26 tasks      | elapsed:    9.5s\n",
            "[Parallel(n_jobs=-1)]: Done  37 tasks      | elapsed:   12.2s\n",
            "[Parallel(n_jobs=-1)]: Done  48 tasks      | elapsed:   14.6s\n",
            "[Parallel(n_jobs=-1)]: Done  61 tasks      | elapsed:   19.0s\n",
            "[Parallel(n_jobs=-1)]: Done  74 tasks      | elapsed:   22.8s\n",
            "[Parallel(n_jobs=-1)]: Done  88 out of 100 | elapsed:   26.4s remaining:    3.5s\n",
            "[Parallel(n_jobs=-1)]: Done 100 out of 100 | elapsed:   29.0s finished\n"
          ]
        }
      ],
      "source": [
        "validacao = RepeatedKFold(n_splits = 10, n_repeats = 10)\n",
        "resultados = pd.DataFrame() #dataframe vazio para guardar os resultados\n",
        "\n",
        "i = 1\n",
        "for i, modelo in enumerate(regressor):\n",
        "    print('Ajustando o modelo', nome[i])\n",
        "    mol_testes = cross_validate(modelo, xtreino, ytreino, cv = validacao, \n",
        "                                scoring = ['neg_mean_absolute_error','neg_mean_squared_error', 'r2'],\n",
        "                                verbose = 10, n_jobs = -1)\n",
        "    #atribui as métricas para o dataframe para comparação\n",
        "    ema = mol_testes['test_neg_mean_absolute_error'].mean()\n",
        "    sqd = mol_testes['test_neg_mean_squared_error'].mean()\n",
        "    r2 = mol_testes['test_r2'].mean()\n",
        "    #Atribuindo os resultado ao dataframe resultados\n",
        "    dic = {'EMA': [ema], 'SQUAD': [sqd], 'R2': [r2]}\n",
        "    aux = pd.DataFrame(dic, index = [nome[i]])\n",
        "    resultados = pd.concat([resultados, aux])"
      ]
    },
    {
      "cell_type": "code",
      "execution_count": null,
      "metadata": {
        "colab": {
          "base_uri": "https://localhost:8080/",
          "height": 206
        },
        "id": "47CrnCbIQyxP",
        "outputId": "608285a5-b900-4868-9218-06daf05a7293"
      },
      "outputs": [
        {
          "data": {
            "text/html": [
              "<div>\n",
              "<style scoped>\n",
              "    .dataframe tbody tr th:only-of-type {\n",
              "        vertical-align: middle;\n",
              "    }\n",
              "\n",
              "    .dataframe tbody tr th {\n",
              "        vertical-align: top;\n",
              "    }\n",
              "\n",
              "    .dataframe thead th {\n",
              "        text-align: right;\n",
              "    }\n",
              "</style>\n",
              "<table border=\"1\" class=\"dataframe\">\n",
              "  <thead>\n",
              "    <tr style=\"text-align: right;\">\n",
              "      <th></th>\n",
              "      <th>EMA</th>\n",
              "      <th>SQUAD</th>\n",
              "      <th>R2</th>\n",
              "    </tr>\n",
              "  </thead>\n",
              "  <tbody>\n",
              "    <tr>\n",
              "      <th>Gradiente Boosting</th>\n",
              "      <td>-632.438683</td>\n",
              "      <td>-785292.747080</td>\n",
              "      <td>0.399725</td>\n",
              "    </tr>\n",
              "    <tr>\n",
              "      <th>5-Vizinhos Mais Próximos</th>\n",
              "      <td>-639.421588</td>\n",
              "      <td>-813103.300172</td>\n",
              "      <td>0.378221</td>\n",
              "    </tr>\n",
              "    <tr>\n",
              "      <th>Floresta Aleatoria</th>\n",
              "      <td>-657.675427</td>\n",
              "      <td>-862737.306991</td>\n",
              "      <td>0.340253</td>\n",
              "    </tr>\n",
              "    <tr>\n",
              "      <th>Regressão</th>\n",
              "      <td>-670.821546</td>\n",
              "      <td>-859630.685056</td>\n",
              "      <td>0.342590</td>\n",
              "    </tr>\n",
              "  </tbody>\n",
              "</table>\n",
              "</div>"
            ],
            "text/plain": [
              "                                 EMA          SQUAD        R2\n",
              "Gradiente Boosting       -632.438683 -785292.747080  0.399725\n",
              "5-Vizinhos Mais Próximos -639.421588 -813103.300172  0.378221\n",
              "Floresta Aleatoria       -657.675427 -862737.306991  0.340253\n",
              "Regressão                -670.821546 -859630.685056  0.342590"
            ]
          },
          "execution_count": 321,
          "metadata": {},
          "output_type": "execute_result"
        }
      ],
      "source": [
        "resultados = resultados.sort_values('EMA', ascending=False) #organiza o dataframe segundo o F1\n",
        "resultados.head(50)"
      ]
    },
    {
      "cell_type": "code",
      "execution_count": null,
      "metadata": {
        "id": "lrPW2WbcL3Vg",
        "outputId": "3a2daa10-f86e-4727-db99-7e61828b2db2"
      },
      "outputs": [
        {
          "data": {
            "text/html": [
              "<div>\n",
              "<style scoped>\n",
              "    .dataframe tbody tr th:only-of-type {\n",
              "        vertical-align: middle;\n",
              "    }\n",
              "\n",
              "    .dataframe tbody tr th {\n",
              "        vertical-align: top;\n",
              "    }\n",
              "\n",
              "    .dataframe thead th {\n",
              "        text-align: right;\n",
              "    }\n",
              "</style>\n",
              "<table border=\"1\" class=\"dataframe\">\n",
              "  <thead>\n",
              "    <tr style=\"text-align: right;\">\n",
              "      <th></th>\n",
              "      <th>EMA</th>\n",
              "      <th>SQUAD</th>\n",
              "      <th>R2</th>\n",
              "    </tr>\n",
              "  </thead>\n",
              "  <tbody>\n",
              "    <tr>\n",
              "      <th>Gradiente Boosting</th>\n",
              "      <td>-650.131237</td>\n",
              "      <td>-816920.148876</td>\n",
              "      <td>0.413860</td>\n",
              "    </tr>\n",
              "    <tr>\n",
              "      <th>5-Vizinhos Mais Próximos</th>\n",
              "      <td>-657.270454</td>\n",
              "      <td>-849310.532266</td>\n",
              "      <td>0.390615</td>\n",
              "    </tr>\n",
              "    <tr>\n",
              "      <th>Floresta Aleatoria</th>\n",
              "      <td>-671.260345</td>\n",
              "      <td>-887900.763764</td>\n",
              "      <td>0.362964</td>\n",
              "    </tr>\n",
              "    <tr>\n",
              "      <th>Regressão</th>\n",
              "      <td>-689.066599</td>\n",
              "      <td>-893501.930024</td>\n",
              "      <td>0.358848</td>\n",
              "    </tr>\n",
              "  </tbody>\n",
              "</table>\n",
              "</div>"
            ],
            "text/plain": [
              "                                 EMA          SQUAD        R2\n",
              "Gradiente Boosting       -650.131237 -816920.148876  0.413860\n",
              "5-Vizinhos Mais Próximos -657.270454 -849310.532266  0.390615\n",
              "Floresta Aleatoria       -671.260345 -887900.763764  0.362964\n",
              "Regressão                -689.066599 -893501.930024  0.358848"
            ]
          },
          "execution_count": 303,
          "metadata": {},
          "output_type": "execute_result"
        }
      ],
      "source": [
        "resultados = resultados.sort_values('EMA', ascending=False) #organiza o dataframe segundo o F1\n",
        "resultados.head(40)"
      ]
    },
    {
      "cell_type": "code",
      "execution_count": null,
      "metadata": {
        "id": "hpLYVqKuL3Vg"
      },
      "outputs": [],
      "source": [
        ""
      ]
    },
    {
      "cell_type": "code",
      "execution_count": null,
      "metadata": {
        "id": "Ajqg289XL3Vh"
      },
      "outputs": [],
      "source": [
        ""
      ]
    },
    {
      "cell_type": "code",
      "execution_count": null,
      "metadata": {
        "id": "5uvoUs9QM-ig",
        "outputId": "72ab06ff-32b6-4eea-be51-26c23d523131"
      },
      "outputs": [
        {
          "data": {
            "text/html": [
              "<div>\n",
              "<style scoped>\n",
              "    .dataframe tbody tr th:only-of-type {\n",
              "        vertical-align: middle;\n",
              "    }\n",
              "\n",
              "    .dataframe tbody tr th {\n",
              "        vertical-align: top;\n",
              "    }\n",
              "\n",
              "    .dataframe thead th {\n",
              "        text-align: right;\n",
              "    }\n",
              "</style>\n",
              "<table border=\"1\" class=\"dataframe\">\n",
              "  <thead>\n",
              "    <tr style=\"text-align: right;\">\n",
              "      <th></th>\n",
              "      <th>EMA</th>\n",
              "      <th>SQUAD</th>\n",
              "      <th>R2</th>\n",
              "    </tr>\n",
              "  </thead>\n",
              "  <tbody>\n",
              "    <tr>\n",
              "      <th>Gradiente Boosting</th>\n",
              "      <td>-649.838051</td>\n",
              "      <td>-8.167229e+05</td>\n",
              "      <td>0.414110</td>\n",
              "    </tr>\n",
              "    <tr>\n",
              "      <th>5-Vizinhos Mais Próximos</th>\n",
              "      <td>-657.366716</td>\n",
              "      <td>-8.493923e+05</td>\n",
              "      <td>0.390310</td>\n",
              "    </tr>\n",
              "    <tr>\n",
              "      <th>15-Vizinhos Mais Próximos</th>\n",
              "      <td>-659.633563</td>\n",
              "      <td>-8.579676e+05</td>\n",
              "      <td>0.384331</td>\n",
              "    </tr>\n",
              "    <tr>\n",
              "      <th>Floresta Aleatoria</th>\n",
              "      <td>-672.473639</td>\n",
              "      <td>-8.901080e+05</td>\n",
              "      <td>0.361331</td>\n",
              "    </tr>\n",
              "    <tr>\n",
              "      <th>Default-Vizinhos Mais Próximos</th>\n",
              "      <td>-688.411699</td>\n",
              "      <td>-9.412279e+05</td>\n",
              "      <td>0.324491</td>\n",
              "    </tr>\n",
              "    <tr>\n",
              "      <th>Regressão</th>\n",
              "      <td>-688.990412</td>\n",
              "      <td>-8.933538e+05</td>\n",
              "      <td>0.358920</td>\n",
              "    </tr>\n",
              "    <tr>\n",
              "      <th>ExtraTrees</th>\n",
              "      <td>-703.129771</td>\n",
              "      <td>-1.000584e+06</td>\n",
              "      <td>0.281908</td>\n",
              "    </tr>\n",
              "  </tbody>\n",
              "</table>\n",
              "</div>"
            ],
            "text/plain": [
              "                                       EMA         SQUAD        R2\n",
              "Gradiente Boosting             -649.838051 -8.167229e+05  0.414110\n",
              "5-Vizinhos Mais Próximos       -657.366716 -8.493923e+05  0.390310\n",
              "15-Vizinhos Mais Próximos      -659.633563 -8.579676e+05  0.384331\n",
              "Floresta Aleatoria             -672.473639 -8.901080e+05  0.361331\n",
              "Default-Vizinhos Mais Próximos -688.411699 -9.412279e+05  0.324491\n",
              "Regressão                      -688.990412 -8.933538e+05  0.358920\n",
              "ExtraTrees                     -703.129771 -1.000584e+06  0.281908"
            ]
          },
          "execution_count": 36,
          "metadata": {},
          "output_type": "execute_result"
        }
      ],
      "source": [
        "resultados = resultados.sort_values('EMA', ascending=False) #organiza o dataframe segundo o F1\n",
        "resultados.head(40)"
      ]
    },
    {
      "cell_type": "code",
      "execution_count": null,
      "metadata": {
        "id": "_iRxzo42OQLi",
        "outputId": "84db40d0-135e-442e-9a56-aa0b05c129c9"
      },
      "outputs": [
        {
          "data": {
            "text/html": [
              "<div>\n",
              "<style scoped>\n",
              "    .dataframe tbody tr th:only-of-type {\n",
              "        vertical-align: middle;\n",
              "    }\n",
              "\n",
              "    .dataframe tbody tr th {\n",
              "        vertical-align: top;\n",
              "    }\n",
              "\n",
              "    .dataframe thead th {\n",
              "        text-align: right;\n",
              "    }\n",
              "</style>\n",
              "<table border=\"1\" class=\"dataframe\">\n",
              "  <thead>\n",
              "    <tr style=\"text-align: right;\">\n",
              "      <th></th>\n",
              "      <th>EMA</th>\n",
              "      <th>SQUAD</th>\n",
              "      <th>R2</th>\n",
              "    </tr>\n",
              "  </thead>\n",
              "  <tbody>\n",
              "    <tr>\n",
              "      <th>Gradiente Boosting</th>\n",
              "      <td>-1430.956640</td>\n",
              "      <td>-8.977587e+06</td>\n",
              "      <td>0.374358</td>\n",
              "    </tr>\n",
              "    <tr>\n",
              "      <th>5-Vizinhos Mais Próximos</th>\n",
              "      <td>-1458.500278</td>\n",
              "      <td>-9.419969e+06</td>\n",
              "      <td>0.342866</td>\n",
              "    </tr>\n",
              "    <tr>\n",
              "      <th>15-Vizinhos Mais Próximos</th>\n",
              "      <td>-1465.023145</td>\n",
              "      <td>-9.522279e+06</td>\n",
              "      <td>0.336199</td>\n",
              "    </tr>\n",
              "    <tr>\n",
              "      <th>Floresta Aleatoria</th>\n",
              "      <td>-1488.529854</td>\n",
              "      <td>-9.732230e+06</td>\n",
              "      <td>0.317418</td>\n",
              "    </tr>\n",
              "    <tr>\n",
              "      <th>Default-Vizinhos Mais Próximos</th>\n",
              "      <td>-1538.609322</td>\n",
              "      <td>-1.054968e+07</td>\n",
              "      <td>0.261873</td>\n",
              "    </tr>\n",
              "    <tr>\n",
              "      <th>ExtraTrees</th>\n",
              "      <td>-1543.174855</td>\n",
              "      <td>-1.087598e+07</td>\n",
              "      <td>0.237064</td>\n",
              "    </tr>\n",
              "    <tr>\n",
              "      <th>Regressão</th>\n",
              "      <td>-1743.452202</td>\n",
              "      <td>-1.052574e+07</td>\n",
              "      <td>0.265772</td>\n",
              "    </tr>\n",
              "  </tbody>\n",
              "</table>\n",
              "</div>"
            ],
            "text/plain": [
              "                                        EMA         SQUAD        R2\n",
              "Gradiente Boosting             -1430.956640 -8.977587e+06  0.374358\n",
              "5-Vizinhos Mais Próximos       -1458.500278 -9.419969e+06  0.342866\n",
              "15-Vizinhos Mais Próximos      -1465.023145 -9.522279e+06  0.336199\n",
              "Floresta Aleatoria             -1488.529854 -9.732230e+06  0.317418\n",
              "Default-Vizinhos Mais Próximos -1538.609322 -1.054968e+07  0.261873\n",
              "ExtraTrees                     -1543.174855 -1.087598e+07  0.237064\n",
              "Regressão                      -1743.452202 -1.052574e+07  0.265772"
            ]
          },
          "execution_count": 40,
          "metadata": {},
          "output_type": "execute_result"
        }
      ],
      "source": [
        "resultados = resultados.sort_values('EMA', ascending=False) #organiza o dataframe segundo o F1\n",
        "resultados.head(40)"
      ]
    },
    {
      "cell_type": "code",
      "execution_count": null,
      "metadata": {
        "id": "KUCRlfSeU5vP"
      },
      "outputs": [],
      "source": [
        ""
      ]
    },
    {
      "cell_type": "markdown",
      "metadata": {
        "id": "LK5XRDK4U6Tl"
      },
      "source": [
        "#Voto"
      ]
    },
    {
      "cell_type": "code",
      "execution_count": null,
      "metadata": {
        "id": "ifHKjl_0U731"
      },
      "outputs": [],
      "source": [
        "mol_1 = SVR(kernel=\"poly\", C=100, gamma=\"auto\", degree=3, epsilon=0.1, coef0=1)\n",
        "mol_2 = GradientBoostingRegressor()\n",
        "mol_3 = KNeighborsRegressor(n_neighbors = 25)\n",
        "\n",
        "voto = VotingRegressor(estimators = [('SVC', mol_1), ('Grad', mol_2), ('Flor', mol_3)])\n",
        "voto = voto.fit(xtreino, ytreino)\n",
        "\n",
        "pred_voto = voto.predict(teste)\n",
        "subm = pd.DataFrame()\n",
        "subm['remuneracao'] = pred_voto\n",
        "subm.to_csv('D:\\submissão05t0.csv', index = False)"
      ]
    },
    {
      "cell_type": "code",
      "execution_count": null,
      "metadata": {
        "id": "AlyClJSQL3Vj"
      },
      "outputs": [],
      "source": [
        ""
      ]
    },
    {
      "cell_type": "code",
      "execution_count": null,
      "metadata": {
        "id": "LazfE_f1L3Vj",
        "outputId": "b0f14c2c-460e-4157-e511-95a3374227b0"
      },
      "outputs": [
        {
          "data": {
            "text/html": [
              "<div>\n",
              "<style scoped>\n",
              "    .dataframe tbody tr th:only-of-type {\n",
              "        vertical-align: middle;\n",
              "    }\n",
              "\n",
              "    .dataframe tbody tr th {\n",
              "        vertical-align: top;\n",
              "    }\n",
              "\n",
              "    .dataframe thead th {\n",
              "        text-align: right;\n",
              "    }\n",
              "</style>\n",
              "<table border=\"1\" class=\"dataframe\">\n",
              "  <thead>\n",
              "    <tr style=\"text-align: right;\">\n",
              "      <th></th>\n",
              "      <th>remuneracao</th>\n",
              "    </tr>\n",
              "  </thead>\n",
              "  <tbody>\n",
              "    <tr>\n",
              "      <th>0</th>\n",
              "      <td>1781.347470</td>\n",
              "    </tr>\n",
              "    <tr>\n",
              "      <th>1</th>\n",
              "      <td>1877.511971</td>\n",
              "    </tr>\n",
              "    <tr>\n",
              "      <th>2</th>\n",
              "      <td>3682.419699</td>\n",
              "    </tr>\n",
              "    <tr>\n",
              "      <th>3</th>\n",
              "      <td>2513.391062</td>\n",
              "    </tr>\n",
              "    <tr>\n",
              "      <th>4</th>\n",
              "      <td>2029.754441</td>\n",
              "    </tr>\n",
              "    <tr>\n",
              "      <th>...</th>\n",
              "      <td>...</td>\n",
              "    </tr>\n",
              "    <tr>\n",
              "      <th>14995</th>\n",
              "      <td>2390.823659</td>\n",
              "    </tr>\n",
              "    <tr>\n",
              "      <th>14996</th>\n",
              "      <td>1614.281626</td>\n",
              "    </tr>\n",
              "    <tr>\n",
              "      <th>14997</th>\n",
              "      <td>1534.628608</td>\n",
              "    </tr>\n",
              "    <tr>\n",
              "      <th>14998</th>\n",
              "      <td>1199.030234</td>\n",
              "    </tr>\n",
              "    <tr>\n",
              "      <th>14999</th>\n",
              "      <td>2279.188364</td>\n",
              "    </tr>\n",
              "  </tbody>\n",
              "</table>\n",
              "<p>15000 rows × 1 columns</p>\n",
              "</div>"
            ],
            "text/plain": [
              "       remuneracao\n",
              "0      1781.347470\n",
              "1      1877.511971\n",
              "2      3682.419699\n",
              "3      2513.391062\n",
              "4      2029.754441\n",
              "...            ...\n",
              "14995  2390.823659\n",
              "14996  1614.281626\n",
              "14997  1534.628608\n",
              "14998  1199.030234\n",
              "14999  2279.188364\n",
              "\n",
              "[15000 rows x 1 columns]"
            ]
          },
          "execution_count": 323,
          "metadata": {},
          "output_type": "execute_result"
        }
      ],
      "source": [
        "subm"
      ]
    },
    {
      "cell_type": "code",
      "execution_count": null,
      "metadata": {
        "id": "aoTMbz-tL3Vk"
      },
      "outputs": [],
      "source": [
        ""
      ]
    }
  ],
  "metadata": {
    "colab": {
      "collapsed_sections": [],
      "name": "7 - MVP.ipynb",
      "provenance": [],
      "include_colab_link": true
    },
    "kernelspec": {
      "display_name": "Python 3 (ipykernel)",
      "language": "python",
      "name": "python3"
    },
    "language_info": {
      "codemirror_mode": {
        "name": "ipython",
        "version": 3
      },
      "file_extension": ".py",
      "mimetype": "text/x-python",
      "name": "python",
      "nbconvert_exporter": "python",
      "pygments_lexer": "ipython3",
      "version": "3.9.7"
    }
  },
  "nbformat": 4,
  "nbformat_minor": 0
}