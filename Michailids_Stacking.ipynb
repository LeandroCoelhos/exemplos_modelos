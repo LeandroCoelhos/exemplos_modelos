{
  "nbformat": 4,
  "nbformat_minor": 0,
  "metadata": {
    "colab": {
      "name": "Michailids Stacking.ipynb",
      "provenance": [],
      "authorship_tag": "ABX9TyNeQc2vvIU6BhQVdcxsbIKB",
      "include_colab_link": true
    },
    "kernelspec": {
      "name": "python3",
      "display_name": "Python 3"
    },
    "language_info": {
      "name": "python"
    }
  },
  "cells": [
    {
      "cell_type": "markdown",
      "metadata": {
        "id": "view-in-github",
        "colab_type": "text"
      },
      "source": [
        "<a href=\"https://colab.research.google.com/github/LeandroCoelhos/exemplos_modelos/blob/main/Michailids_Stacking.ipynb\" target=\"_parent\"><img src=\"https://colab.research.google.com/assets/colab-badge.svg\" alt=\"Open In Colab\"/></a>"
      ]
    },
    {
      "cell_type": "code",
      "execution_count": null,
      "metadata": {
        "id": "j4_mIt_YjGnm"
      },
      "outputs": [],
      "source": [
        "from sklearn.ensemble import RandomForestRegressor\n",
        "from sklearn.linear_model import LinearRegression\n",
        "import numpy as np\n",
        "from sklearn.model_selection import train_test_split"
      ]
    },
    {
      "cell_type": "code",
      "source": [
        "#divide o conjunto de treino em duas partes\n",
        "training, valid, ytraining, yvalid = train_test_split(train, y, test_size = 0.5)"
      ],
      "metadata": {
        "id": "j0yq0Uc7jqnb"
      },
      "execution_count": null,
      "outputs": []
    },
    {
      "cell_type": "code",
      "source": [
        "model1 = RandomForestRegressor()\n",
        "model2 = LinearRegression()"
      ],
      "metadata": {
        "id": "9NeKvu5Lj5F4"
      },
      "execution_count": null,
      "outputs": []
    },
    {
      "cell_type": "code",
      "source": [
        "#treina o modelo\n",
        "model1.fit(training, ytraining)\n",
        "model2.fit(training, ytraining)"
      ],
      "metadata": {
        "id": "XNg5476dj-bz"
      },
      "execution_count": null,
      "outputs": []
    },
    {
      "cell_type": "code",
      "source": [
        "#faz a parte de validação, aqui podemos colocar algumas métricas para saber se o modelo desempenhou bem\n",
        "preds1=model1.predict(valid)\n",
        "preds2=model2.predict(valid)"
      ],
      "metadata": {
        "id": "TSVsz_XUkKFP"
      },
      "execution_count": null,
      "outputs": []
    },
    {
      "cell_type": "code",
      "source": [
        "#o conjunto de teste é predito para ser usado como novo conjunto de treino\n",
        "test_preds1=model1.predict(test)\n",
        "test_preds2=model2.predict(test)"
      ],
      "metadata": {
        "id": "fjrr6ELckP8-"
      },
      "execution_count": null,
      "outputs": []
    },
    {
      "cell_type": "code",
      "source": [
        "#cria os novos conjuntos de dados que serão usados pelo modelo final\n",
        "stacked_predictions=np.column_stack((preds1,preds2))\n",
        "stracked_test_predictions=np.column_stack((test_preds1,test_preds2))"
      ],
      "metadata": {
        "id": "LxSCV7kjkY3p"
      },
      "execution_count": null,
      "outputs": []
    },
    {
      "cell_type": "code",
      "source": [
        "meta_model=LinearRegression()\n",
        "meta_model.fit(stacked_predictions,yvalid)"
      ],
      "metadata": {
        "id": "2cH06dW0knpb"
      },
      "execution_count": null,
      "outputs": []
    },
    {
      "cell_type": "code",
      "source": [
        "final_predictions=meta_model.predict(stacked_test_predictions)"
      ],
      "metadata": {
        "id": "CbIA1p6tkvVT"
      },
      "execution_count": null,
      "outputs": []
    }
  ]
}